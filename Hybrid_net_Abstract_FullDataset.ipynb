{
 "cells": [
  {
   "cell_type": "code",
   "execution_count": 3,
   "metadata": {},
   "outputs": [],
   "source": [
    "import numpy as np\n",
    "import matplotlib.pylab as plt\n",
    "import random\n",
    "import pandas as pd\n",
    "import torch\n",
    "from torch.utils.data import TensorDataset, DataLoader, Dataset, random_split\n",
    "from torch.autograd import Variable\n",
    "from torch.optim import lr_scheduler\n",
    "from fastai.basics import *\n",
    "\n",
    "from fastai.vision.all import *\n",
    "import PIL\n",
    "import os\n",
    "from functools import reduce"
   ]
  },
  {
   "cell_type": "code",
   "execution_count": 4,
   "metadata": {},
   "outputs": [
    {
     "data": {
      "text/plain": [
       "True"
      ]
     },
     "execution_count": 4,
     "metadata": {},
     "output_type": "execute_result"
    }
   ],
   "source": [
    "torch.cuda.is_available()"
   ]
  },
  {
   "cell_type": "code",
   "execution_count": 5,
   "metadata": {},
   "outputs": [],
   "source": [
    "import gc\n",
    "gc.collect()\n",
    "torch.cuda.empty_cache()"
   ]
  },
  {
   "cell_type": "code",
   "execution_count": 6,
   "metadata": {},
   "outputs": [],
   "source": [
    "from sklearn import preprocessing\n",
    "min_max_scaler = preprocessing.MinMaxScaler()\n",
    "def scaleColumns(df, cols_to_scale):\n",
    "    for col in cols_to_scale:\n",
    "        df[col] = pd.DataFrame(min_max_scaler.fit_transform(pd.DataFrame(df[col])),columns=[col])\n",
    "    return df"
   ]
  },
  {
   "cell_type": "code",
   "execution_count": 113,
   "metadata": {},
   "outputs": [],
   "source": [
    "dft_Signal = pd.read_csv('/home/felipe/JoaoPino/vlq_joao_StrongProduction/TabularData/D4_signal_1700.csv',sep=',')\n",
    "dft_Diboson = pd.read_csv('/home/felipe/JoaoPino/vlq_joao_StrongProduction/TabularData/WW_plus_jets.csv', sep=',')\n",
    "dft_W_plus_jets = pd.read_csv('/home/felipe/JoaoPino/vlq_joao_StrongProduction/TabularData/W_plus_jets.csv', sep=',')\n",
    "dft_Z_plus_jets = pd.read_csv('/home/felipe/JoaoPino/vlq_joao_StrongProduction/TabularData/Z_plus_jets.csv', sep=',')\n",
    "dft_ttbar = pd.read_csv('/home/felipe/JoaoPino/vlq_joao_StrongProduction/TabularData/ttbar.csv', sep=',')"
   ]
  },
  {
   "cell_type": "code",
   "execution_count": 103,
   "metadata": {},
   "outputs": [
    {
     "name": "stdout",
     "output_type": "stream",
     "text": [
      "########## Cross sections in picobarn ##########\n",
      "cross section D4: 2.2574733795310775e-06\n",
      "cross section Diboson: 7.720473226175799\n",
      "cross section W plus jets: 345.54038414669117\n",
      "cross section Z plus jets: 5.700842231284646\n",
      "cross section ttbar: 183.2741596582192\n",
      "################################################\n",
      "cross section Diboson (LO): 1.0949396104697184\n",
      "cross section W plus jets (LO): 76.63430342078209\n",
      "cross section Z plus jets (LO): 0.3717705644667144\n",
      "cross section ttbar (LO): 14.970501221366119\n"
     ]
    }
   ],
   "source": [
    "ttbar_NNLO = 988.57\n",
    "ttbar_LO = 80.75\n",
    "ttbar_new_weight = (dft_ttbar['weight']*ttbar_NNLO)/ttbar_LO\n",
    "xsec_NNLO_ttbar = (ttbar_new_weight.sum())\n",
    "\n",
    "W_NNLO = 1.95e5\n",
    "W_LO = 43247.301481\n",
    "W_new_weight = (dft_W_plus_jets['weight']*W_NNLO)/W_LO\n",
    "xsec_NNLO_W = (W_new_weight.sum())\n",
    "\n",
    "Z_NNLO = 6.33e4\n",
    "Z_LO = 4128\n",
    "Z_new_weight = (dft_Z_plus_jets['weight']*Z_NNLO)/Z_LO\n",
    "xsec_NNLO_Z = (Z_new_weight.sum())\n",
    "\n",
    "Diboson_NNLO = 124.31 ## WW+jets\n",
    "Diboson_LO = 17.63\n",
    "Diboson_new_weight = (dft_Diboson['weight']*Diboson_NNLO)/Diboson_LO\n",
    "xsec_NNLO_Diboson = (Diboson_new_weight.sum())\n",
    "\n",
    "x_sec_signal = sum(dft_Signal['weight'])\n",
    "x_sec_Diboson = sum(dft_Diboson['weight'])\n",
    "x_sec_W_plus_jets = sum(dft_W_plus_jets['weight'])\n",
    "x_sec_Z_plus_jets = sum(dft_Z_plus_jets['weight'])\n",
    "x_sec_ttbar = sum(dft_ttbar['weight'])\n",
    "\n",
    "print('########## Cross sections in picobarn ##########')\n",
    "print('cross section D4:', x_sec_signal)\n",
    "print('cross section Diboson:', xsec_NNLO_Diboson)\n",
    "print('cross section W plus jets:', xsec_NNLO_W)\n",
    "print('cross section Z plus jets:', xsec_NNLO_Z)\n",
    "print('cross section ttbar:', xsec_NNLO_ttbar)\n",
    "print('################################################')\n",
    "print('cross section Diboson (LO):', x_sec_Diboson)\n",
    "print('cross section W plus jets (LO):', x_sec_W_plus_jets)\n",
    "print('cross section Z plus jets (LO):', x_sec_Z_plus_jets)\n",
    "print('cross section ttbar (LO):', x_sec_ttbar)"
   ]
  },
  {
   "cell_type": "code",
   "execution_count": null,
   "metadata": {},
   "outputs": [],
   "source": [
    "#The MT_W_jets is the same as MJ3J4. Also remove MT_W_jets\n",
    "#dft['MT_W_jets'] == dft['MJ3J4']\n",
    "for i in [dft_Signal, dft_Diboson, dft_W_plus_jets, dft_Z_plus_jets, dft_ttbar]:\n",
    "    i.drop(['weight'], axis=1, inplace=True)\n",
    "    i.drop(['MT_W_jets'], axis=1, inplace=True)"
   ]
  },
  {
   "cell_type": "code",
   "execution_count": null,
   "metadata": {},
   "outputs": [],
   "source": [
    "path_img = Path('/home/felipe/JoaoPino/vlq_joao_StrongProduction/Images_Abstract')"
   ]
  },
  {
   "cell_type": "code",
   "execution_count": null,
   "metadata": {},
   "outputs": [],
   "source": [
    "signal_D4_imgs = path_img/'D4_signal/'\n",
    "Diboson_imgs = path_img/'WW_plus_jets/'\n",
    "W_plus_jets_imgs = path_img/'W_plus_jets/'\n",
    "Z_plus_jets_imgs = path_img/'Z_plus_jets/'\n",
    "ttbar_imgs = path_img/'ttbar/'"
   ]
  },
  {
   "cell_type": "code",
   "execution_count": null,
   "metadata": {},
   "outputs": [],
   "source": [
    "dft_Signal['img Path'] = None\n",
    "dft_Diboson['img Path'] = None\n",
    "dft_W_plus_jets['img Path'] = None\n",
    "dft_Z_plus_jets['img Path'] = None\n",
    "dft_ttbar['img Path'] = None"
   ]
  },
  {
   "cell_type": "code",
   "execution_count": null,
   "metadata": {},
   "outputs": [],
   "source": [
    "for img in signal_D4_imgs.ls():\n",
    "    idx = int(img.name.split('.')[0])\n",
    "    dft_Signal.loc[dft_Signal['event id'] == idx, 'img Path'] = img.absolute()"
   ]
  },
  {
   "cell_type": "code",
   "execution_count": null,
   "metadata": {},
   "outputs": [],
   "source": [
    "for img in Diboson_imgs.ls():\n",
    "    idx = int(img.name.split('.')[0])\n",
    "    dft_Diboson.loc[dft_Diboson['event id'] == idx, 'img Path'] = img.absolute()"
   ]
  },
  {
   "cell_type": "code",
   "execution_count": null,
   "metadata": {},
   "outputs": [],
   "source": [
    "for img in W_plus_jets_imgs.ls():\n",
    "    idx = int(img.name.split('.')[0])\n",
    "    dft_W_plus_jets.loc[dft_W_plus_jets['event id'] == idx, 'img Path'] = img.absolute()"
   ]
  },
  {
   "cell_type": "code",
   "execution_count": null,
   "metadata": {},
   "outputs": [],
   "source": [
    "for img in Z_plus_jets_imgs.ls():\n",
    "    idx = int(img.name.split('.')[0])\n",
    "    dft_Z_plus_jets.loc[dft_Z_plus_jets['event id'] == idx, 'img Path'] = img.absolute()"
   ]
  },
  {
   "cell_type": "code",
   "execution_count": null,
   "metadata": {},
   "outputs": [],
   "source": [
    "for img in ttbar_imgs.ls():\n",
    "    idx = int(img.name.split('.')[0])\n",
    "    dft_ttbar.loc[dft_ttbar['event id'] == idx, 'img Path'] = img.absolute()"
   ]
  },
  {
   "cell_type": "code",
   "execution_count": 9,
   "metadata": {},
   "outputs": [],
   "source": [
    "dft_Signal.to_csv('/home/felipe/JoaoPino/vlq_joao_StrongProduction/TabularData plus Images/D4_signal_Images_1200.csv' ,sep=',', index=False)\n",
    "dft_Diboson.to_csv('/home/felipe/JoaoPino/vlq_joao_StrongProduction/TabularData plus Images/WW_plus_jets_Images.csv' ,sep=',', index=False)\n",
    "dft_W_plus_jets.to_csv('/home/felipe/JoaoPino/vlq_joao_StrongProduction/TabularData plus Images/W_plus_jets_Images.csv' ,sep=',', index=False)\n",
    "dft_Z_plus_jets.to_csv('/home/felipe/JoaoPino/vlq_joao_StrongProduction/TabularData plus Images/Z_plus_jets_Images.csv' ,sep=',', index=False)\n",
    "dft_ttbar.to_csv('/home/felipe/JoaoPino/vlq_joao_StrongProduction/TabularData plus Images/ttbar_Images.csv' ,sep=',', index=False)"
   ]
  },
  {
   "cell_type": "code",
   "execution_count": 10,
   "metadata": {},
   "outputs": [],
   "source": [
    "df1 = pd.read_csv('/home/felipe/JoaoPino/vlq_joao_StrongProduction/TabularData plus Images/D4_signal_Images.csv',sep=',')\n",
    "df2 = pd.read_csv('/home/felipe/JoaoPino/vlq_joao_StrongProduction/TabularData plus Images/WW_plus_jets_Images.csv',sep=',')\n",
    "df3 = pd.read_csv('/home/felipe/JoaoPino/vlq_joao_StrongProduction/TabularData plus Images/W_plus_jets_Images.csv',sep=',')\n",
    "df4 = pd.read_csv('/home/felipe/JoaoPino/vlq_joao_StrongProduction/TabularData plus Images/Z_plus_jets_Images.csv',sep=',')\n",
    "df5 = pd.read_csv('/home/felipe/JoaoPino/vlq_joao_StrongProduction/TabularData plus Images/ttbar_Images.csv',sep=',')"
   ]
  },
  {
   "cell_type": "code",
   "execution_count": 11,
   "metadata": {},
   "outputs": [],
   "source": [
    "dft = pd.concat([df1,df2,df3,df4,df5])"
   ]
  },
  {
   "cell_type": "code",
   "execution_count": 12,
   "metadata": {},
   "outputs": [],
   "source": [
    "del df1, df2, df3, df4, df5"
   ]
  },
  {
   "cell_type": "code",
   "execution_count": 13,
   "metadata": {},
   "outputs": [],
   "source": [
    "dft.reset_index(drop=True, inplace=True)"
   ]
  },
  {
   "cell_type": "code",
   "execution_count": 14,
   "metadata": {},
   "outputs": [
    {
     "data": {
      "text/plain": [
       "Index(['event id', 'pT_lepton', 'eta_lepton', 'phi_lepton', 'Energy_lepton',\n",
       "       'met', 'pT_jet1', 'eta_jet1', 'phi_jet1', 'Energy_jet1', 'pT_jet2',\n",
       "       'eta_jet2', 'phi_jet2', 'Energy_jet2', 'pT_jet3', 'eta_jet3',\n",
       "       'phi_jet3', 'Energy_jet3', 'pT_jet4', 'eta_jet4', 'phi_jet4',\n",
       "       'Energy_jet4', 'MT_W', 'MD', 'MDanti', 'MD1', 'MD2', 'MJ1J2', 'MJ1J3',\n",
       "       'MJ1J4', 'MJ2J3', 'MJ2J4', 'MJ3J4', 'DR_j1lepton', 'DR_j2lepton',\n",
       "       'DR_j3lepton', 'DR_j4lepton', 'DR_j1j2', 'DR_j1j3', 'DR_j1j4',\n",
       "       'DR_j2j3', 'DR_j2j4', 'DR_j3j4', 'DPhi_j1lepton', 'DPhi_j2lepton',\n",
       "       'DPhi_j3lepton', 'DPhi_j4lepton', 'DPhi_j1j2', 'DPhi_j1j3', 'DPhi_j1j4',\n",
       "       'DPhi_j2j3', 'DPhi_j2j4', 'DPhi_j3j4', 'cos_lepton_MET',\n",
       "       'cos_lepton_jet1', 'cos_lepton_jet2', 'cos_lepton_jet3',\n",
       "       'cos_lepton_jet4', 'cos_jet1_jet2', 'cos_jet1_jet3', 'cos_jet1_jet4',\n",
       "       'cos_jet2_jet3', 'cos_jet2_jet4', 'cos_jet3_jet4', 'img Path', 'weight',\n",
       "       'MT_W_jets'],\n",
       "      dtype='object')"
      ]
     },
     "execution_count": 14,
     "metadata": {},
     "output_type": "execute_result"
    }
   ],
   "source": [
    "dft.keys()"
   ]
  },
  {
   "cell_type": "code",
   "execution_count": 15,
   "metadata": {},
   "outputs": [],
   "source": [
    "dft = scaleColumns(dft, ['pT_lepton', 'eta_lepton', 'phi_lepton', 'Energy_lepton',\n",
    "                           'met', 'pT_jet1', 'eta_jet1', 'phi_jet1', 'Energy_jet1', 'pT_jet2',\n",
    "                           'eta_jet2', 'phi_jet2', 'Energy_jet2', 'pT_jet3', 'eta_jet3',\n",
    "                           'phi_jet3', 'Energy_jet3', 'pT_jet4', 'eta_jet4', 'phi_jet4',\n",
    "                           'Energy_jet4', 'MT_W', 'MD', 'MDanti', 'MD1', 'MD2', 'MJ1J2', 'MJ1J3',\n",
    "                           'MJ1J4', 'MJ2J3', 'MJ2J4', 'MJ3J4', 'DR_j1lepton', 'DR_j2lepton',\n",
    "                           'DR_j3lepton', 'DR_j4lepton', 'DR_j1j2', 'DR_j1j3', 'DR_j1j4',\n",
    "                           'DR_j2j3', 'DR_j2j4', 'DR_j3j4', 'DPhi_j1lepton', 'DPhi_j2lepton',\n",
    "                           'DPhi_j3lepton', 'DPhi_j4lepton', 'DPhi_j1j2', 'DPhi_j1j3', 'DPhi_j1j4',\n",
    "                           'DPhi_j2j3', 'DPhi_j2j4', 'DPhi_j3j4', 'cos_lepton_MET',\n",
    "                           'cos_lepton_jet1', 'cos_lepton_jet2', 'cos_lepton_jet3',\n",
    "                           'cos_lepton_jet4', 'cos_jet1_jet2', 'cos_jet1_jet3', 'cos_jet1_jet4',\n",
    "                           'cos_jet2_jet3', 'cos_jet2_jet4', 'cos_jet3_jet4']) "
   ]
  },
  {
   "cell_type": "code",
   "execution_count": 16,
   "metadata": {},
   "outputs": [],
   "source": [
    "Abstract_path = Path('/home/felipe/JoaoPino/vlq_joao_StrongProduction/Images_Abstract/')"
   ]
  },
  {
   "cell_type": "code",
   "execution_count": 17,
   "metadata": {},
   "outputs": [],
   "source": [
    "def open_image(fname, size=224):\n",
    "    img = PIL.Image.open(fname).convert('RGB')\n",
    "    img = img.resize((size, size))\n",
    "    t = torch.Tensor(np.array(img))\n",
    "    return 2.*(t.permute(2,0,1).float()/255.0) - 1."
   ]
  },
  {
   "cell_type": "code",
   "execution_count": 18,
   "metadata": {},
   "outputs": [
    {
     "data": {
      "text/plain": [
       "tensor(-1.)"
      ]
     },
     "execution_count": 18,
     "metadata": {},
     "output_type": "execute_result"
    }
   ],
   "source": [
    "open_image(get_image_files(Abstract_path)[0]).min()"
   ]
  },
  {
   "cell_type": "code",
   "execution_count": 19,
   "metadata": {},
   "outputs": [],
   "source": [
    "files = get_image_files(Abstract_path)"
   ]
  },
  {
   "cell_type": "code",
   "execution_count": 20,
   "metadata": {},
   "outputs": [
    {
     "data": {
      "text/plain": [
       "'D4_signal'"
      ]
     },
     "execution_count": 20,
     "metadata": {},
     "output_type": "execute_result"
    }
   ],
   "source": [
    "files[0].parent.name"
   ]
  },
  {
   "cell_type": "code",
   "execution_count": 21,
   "metadata": {},
   "outputs": [],
   "source": [
    "class ImageDistroDataset(torch.utils.data.Dataset):\n",
    "    def __init__(self, files, dataframe):\n",
    "        self.files, self.dataframe = files, dataframe\n",
    "        \n",
    "    def __getitem__(self, i):\n",
    "        file = self.files[i]\n",
    "        img1 = open_image(file)\n",
    "        parent = file.parent.name\n",
    "        if parent == 'D4_signal':\n",
    "            y = torch.FloatTensor([1.,0.,0.,0.,0.])\n",
    "        elif parent == 'WW_plus_jets':\n",
    "            y = torch.FloatTensor([0.,1.,0.,0.,0.])\n",
    "        elif parent == 'W_plus_jets':\n",
    "            y = torch.FloatTensor([0.,0.,1.,0.,0.])\n",
    "        elif parent == 'Z_plus_jets':\n",
    "            y = torch.FloatTensor([0.,0.,0.,1.,0.])\n",
    "        elif parent == 'ttbar':\n",
    "            y = torch.FloatTensor([0.,0.,0.,0.,1.]) \n",
    "        \n",
    "        kinematics = self.dataframe.loc[self.dataframe['img Path'] == str(file.absolute()), ['pT_lepton', 'eta_lepton', 'phi_lepton', 'Energy_lepton',\n",
    "                           'met', 'pT_jet1', 'eta_jet1', 'phi_jet1', 'Energy_jet1', 'pT_jet2',\n",
    "                           'eta_jet2', 'phi_jet2', 'Energy_jet2', 'pT_jet3', 'eta_jet3',\n",
    "                           'phi_jet3', 'Energy_jet3', 'pT_jet4', 'eta_jet4', 'phi_jet4',\n",
    "                           'Energy_jet4', 'MT_W', 'MD', 'MDanti', 'MD1', 'MD2', 'MJ1J2', 'MJ1J3',\n",
    "                           'MJ1J4', 'MJ2J3', 'MJ2J4', 'MJ3J4', 'DR_j1lepton', 'DR_j2lepton',\n",
    "                           'DR_j3lepton', 'DR_j4lepton', 'DR_j1j2', 'DR_j1j3', 'DR_j1j4',\n",
    "                           'DR_j2j3', 'DR_j2j4', 'DR_j3j4', 'DPhi_j1lepton', 'DPhi_j2lepton',\n",
    "                           'DPhi_j3lepton', 'DPhi_j4lepton', 'DPhi_j1j2', 'DPhi_j1j3', 'DPhi_j1j4',\n",
    "                           'DPhi_j2j3', 'DPhi_j2j4', 'DPhi_j3j4', 'cos_lepton_MET',\n",
    "                           'cos_lepton_jet1', 'cos_lepton_jet2', 'cos_lepton_jet3',\n",
    "                           'cos_lepton_jet4', 'cos_jet1_jet2', 'cos_jet1_jet3', 'cos_jet1_jet4',\n",
    "                           'cos_jet2_jet3', 'cos_jet2_jet4', 'cos_jet3_jet4']].values\n",
    "        \n",
    "        kinematics = torch.FloatTensor(kinematics)\n",
    "        return (img1, kinematics, y)\n",
    "    \n",
    "    def __len__(self): return len(self.files)"
   ]
  },
  {
   "cell_type": "code",
   "execution_count": 22,
   "metadata": {},
   "outputs": [],
   "source": [
    "files = get_image_files(Abstract_path)"
   ]
  },
  {
   "cell_type": "code",
   "execution_count": 23,
   "metadata": {},
   "outputs": [
    {
     "data": {
      "image/png": "[encoded data removed]",
      "text/plain": [
       "<PIL.PngImagePlugin.PngImageFile image mode=RGBA size=224x224 at 0x7F15AC38F310>"
      ]
     },
     "execution_count": 23,
     "metadata": {},
     "output_type": "execute_result"
    }
   ],
   "source": [
    "PIL.Image.open(files[0])"
   ]
  },
  {
   "cell_type": "code",
   "execution_count": 24,
   "metadata": {},
   "outputs": [],
   "source": [
    "idxs = np.random.permutation(range(len(files)))\n",
    "cut = int(0.8 * len(files))\n",
    "train_files = files[idxs[:cut]]\n",
    "valid_files = files[idxs[cut:]]"
   ]
  },
  {
   "cell_type": "code",
   "execution_count": 25,
   "metadata": {},
   "outputs": [],
   "source": [
    "train_ds = ImageDistroDataset(train_files,dft)\n",
    "valid_ds = ImageDistroDataset(valid_files,dft)"
   ]
  },
  {
   "cell_type": "code",
   "execution_count": 26,
   "metadata": {},
   "outputs": [],
   "source": [
    "#bs=256\n",
    "bs=256\n",
    "dls = DataLoaders.from_dsets(train_ds, valid_ds,bs=bs)"
   ]
  },
  {
   "cell_type": "code",
   "execution_count": 27,
   "metadata": {},
   "outputs": [],
   "source": [
    "dls = dls.cuda()"
   ]
  },
  {
   "cell_type": "code",
   "execution_count": 28,
   "metadata": {},
   "outputs": [],
   "source": [
    "class MixModel(nn.Module):\n",
    "    def __init__(self):\n",
    "        super(MixModel, self).__init__()\n",
    "        self.vision_model = models.resnet34(num_classes=5)\n",
    "        self.kinematic_model = nn.Sequential()\n",
    "        #Input Layer\n",
    "        #63 is the number of observables\n",
    "        linear1 = nn.Linear(63, 1024, bias=True)\n",
    "        nn.init.normal_(linear1.weight)\n",
    "        self.kinematic_model.add_module(\"Linear 1\", linear1)\n",
    "        self.kinematic_model.add_module(\"Activation 1\", nn.Sigmoid())\n",
    "        #Layer 1\n",
    "        linear1 = nn.Linear(1024, 1024, bias=True)\n",
    "        nn.init.normal_(linear1.weight)\n",
    "        self.kinematic_model.add_module(\"Linear 2\", linear1)\n",
    "        self.kinematic_model.add_module(\"Activation 2\", nn.Sigmoid())\n",
    "        #Layer 2\n",
    "        linear1 = nn.Linear(1024, 1024, bias=True)\n",
    "        nn.init.normal_(linear1.weight)\n",
    "        self.kinematic_model.add_module(\"Linear 3\", linear1)\n",
    "        self.kinematic_model.add_module(\"Activation 3\", nn.Sigmoid())\n",
    "        #Output Layer\n",
    "        #5 is the number of classes (1 signal plus 4 backgrounds)\n",
    "        linear1 = nn.Linear(1024, 5, bias=True)\n",
    "        nn.init.xavier_uniform_(linear1.weight)\n",
    "        self.kinematic_model.add_module(\"Linear 4\", linear1)\n",
    "        self.kinematic_model.add_module(\"Activation 4\", nn.Sigmoid())   \n",
    "        # self.kinematic_model.to(device2)\n",
    "        # self.kinematic_model.to(device1)\n",
    "        # self.vision_model.to(device1)\n",
    "\n",
    "    def forward(self, x1, x2):\n",
    "        vis_out = self.vision_model(x1)\n",
    "        # kin_out = self.kinematic_model(x2.to(device2))\n",
    "        kin_out = self.kinematic_model(x2)\n",
    "        kin_out = kin_out.view(vis_out.shape)\n",
    "        pred = nn.Sigmoid()\n",
    "        \n",
    "        soft_layer=torch.nn.Softmax(dim=1)\n",
    "        vis1_out=soft_layer(vis_out)\n",
    "        \n",
    "        f_out = pred(reduce(torch.add, [vis_out, kin_out]))\n",
    "        return f_out, vis1_out, kin_out"
   ]
  },
  {
   "cell_type": "code",
   "execution_count": 29,
   "metadata": {},
   "outputs": [],
   "source": [
    "class asimovSignificanceLossInvert(nn.Module):\n",
    "    def __init__(self, expectedSignal:float=None, expectedBkgd:list=None, systematic:float=None):\n",
    "        super(asimovSignificanceLossInvert, self).__init__()\n",
    "        self.expectedSignal = expectedSignal\n",
    "        self.expectedBkgd = expectedBkgd\n",
    "        self.systematic = systematic\n",
    "        \n",
    "    def forward(self, y_pred, y_true):\n",
    "        sig_idx = 0\n",
    "        bg_idx = [0, 1]\n",
    "        #very lazy hack for zero division\n",
    "        try:\n",
    "            f = open('debug.txt','w')\n",
    "            signalWeight = self.expectedSignal/torch.sum(y_true, dim=0)[sig_idx].item()\n",
    "            bkgdWeight= [self.expectedBkgd[idx]/torch.sum(1-y_true, dim=0)[idx] for idx in bg_idx]\n",
    "            print('Signal Weight:', signalWeight, '\\n', 'Background Weight:', bkgdWeight, file=f)\n",
    "            f.close()\n",
    "        except ZeroDivisionError:\n",
    "            Denom = 1\n",
    "            signalWeight = self.expectedSignal/Denom\n",
    "            bkgdWeight= [self.expectedBkgd[idx]/torch.sum(1-y_true, dim=0)[idx] for idx in bg_idx]\n",
    "\n",
    "        s = signalWeight*torch.sum(y_pred*y_true, dim=0)[sig_idx]\n",
    "        b = torch.sum(torch.FloatTensor([bkgdWeight[idx] * torch.sum(y_pred*(1-y_true), dim=0)[idx] for idx in bg_idx]))\n",
    "        sigB=self.systematic*b\n",
    "\n",
    "        return 1./(2*((s+b)*torch.log((s+b)*(b+sigB*sigB)/(b*b+(s+b)*sigB*sigB+ 1e-4) + 1e-4) \\\n",
    "                      - b * b * torch.log(1+sigB*sigB*s/(b*(b+sigB*sigB) + 1e-4))/( sigB * sigB + 1e-4)))\n"
   ]
  },
  {
   "cell_type": "code",
   "execution_count": 30,
   "metadata": {},
   "outputs": [],
   "source": [
    "m = MixModel()"
   ]
  },
  {
   "cell_type": "code",
   "execution_count": 31,
   "metadata": {},
   "outputs": [],
   "source": [
    "def check_size(networks, shape1:tuple, shape2:tuple):\n",
    "    model = MyModel(networks)\n",
    "    device = next(model.parameters()).device\n",
    "    rnd1 = torch.rand(shape1, device=device)\n",
    "    rnd2 = torch.rand(shape2, device=device)\n",
    "    try:\n",
    "        model(rnd1, rnd2)\n",
    "        del(model)\n",
    "        torc.cuda.empty_cache()\n",
    "        return True\n",
    "    except RuntimeError:\n",
    "        return False"
   ]
  },
  {
   "cell_type": "code",
   "execution_count": 32,
   "metadata": {},
   "outputs": [],
   "source": [
    "#device = next(model.parameters()).device\n",
    "shape1 = (256, 3, 224, 224)\n",
    "shape2 = (256, 1, 63)\n",
    "rand1 = torch.rand(shape1)\n",
    "rand2 = torch.rand(shape2)"
   ]
  },
  {
   "cell_type": "code",
   "execution_count": 33,
   "metadata": {},
   "outputs": [],
   "source": [
    "#m(x1=rand1, x2=rand2)"
   ]
  },
  {
   "cell_type": "code",
   "execution_count": 34,
   "metadata": {},
   "outputs": [],
   "source": [
    "# learn = Learner(dls,m,loss_func=asimovSignificanceLossInvert(expectedSignal=1.0631416402979563*3000,\n",
    "#                                                        expectedBkgd=[1094.9396104697184*3000,14970.50122136612*3000],\n",
    "#                                                        systematic=0.1), metrics=APScoreMulti(average='micro'))"
   ]
  },
  {
   "cell_type": "code",
   "execution_count": 35,
   "metadata": {},
   "outputs": [],
   "source": [
    "learn = Learner(dls, m, loss_func=nn.BCELoss(), metrics=APScoreMulti(average='micro'))"
   ]
  },
  {
   "cell_type": "code",
   "execution_count": 36,
   "metadata": {},
   "outputs": [
    {
     "data": {
      "text/plain": [
       "<fastai.learner.Learner at 0x7f15ac3936a0>"
      ]
     },
     "execution_count": 36,
     "metadata": {},
     "output_type": "execute_result"
    }
   ],
   "source": [
    "learn.load('/home/felipe/JoaoPino/vlq_joao_StrongProduction/Hybrid_model/HybridNet_AsimovMetric')"
   ]
  },
  {
   "cell_type": "code",
   "execution_count": null,
   "metadata": {},
   "outputs": [],
   "source": [
    "iterator = iter(dls.valid)\n",
    "for i, j in enumerate(iterator):\n",
    "    print(i, end='\\r')\n",
    "    torch.save(j, '/home/felipe/JoaoPino/vlq_joao_StrongProduction/tensors_Referee/Batches_{f}.pt'.format(f = i))"
   ]
  },
  {
   "cell_type": "code",
   "execution_count": null,
   "metadata": {},
   "outputs": [],
   "source": [
    "path = \"/home/felipe/JoaoPino/vlq_joao_StrongProduction/tensors_Referee\"\n",
    "chrs = len(path)\n",
    "all_files = sorted(glob.glob(path + \"/Batches_*.pt\"), key=lambda name: int(name[(chrs + 9):-3]))"
   ]
  },
  {
   "cell_type": "code",
   "execution_count": null,
   "metadata": {},
   "outputs": [],
   "source": [
    "GT = []\n",
    "VIS = []\n",
    "KIN = []\n",
    "TOG = []\n",
    "\n",
    "for i in range(0,len(all_files)):\n",
    "    tensor = torch.load(all_files[i])\n",
    "    Vis = tensor[0].to(\"cpu\")\n",
    "    Kin = tensor[1].to(\"cpu\")\n",
    "    Ground_truth = tensor[2].to(\"cpu\")\n",
    "    Preds_all = learn.model(x1 = Vis, x2 = Kin)\n",
    "    \n",
    "    TOG.append(Preds_all[0].detach().numpy().tolist())\n",
    "    VIS.append(Preds_all[1].detach().numpy().tolist())\n",
    "    KIN.append(Preds_all[2].detach().numpy().tolist())\n",
    "    GT.append(Ground_truth.detach().numpy().tolist())\n",
    "    \n",
    "    del Vis, Kin, Ground_truth, Preds_all, tensor\n",
    "    print(i, end='\\r')"
   ]
  },
  {
   "cell_type": "code",
   "execution_count": null,
   "metadata": {},
   "outputs": [],
   "source": [
    "from sklearn.metrics import precision_score, precision_recall_curve, average_precision_score,\\\n",
    "accuracy_score,roc_curve, auc, f1_score\n",
    "from sklearn.metrics import roc_auc_score\n",
    "from sklearn.preprocessing import label_binarize\n",
    "from itertools import cycle\n",
    "from scipy import interp\n",
    "import matplotlib.colors as mcolors\n",
    "from scipy.spatial import distance"
   ]
  },
  {
   "cell_type": "code",
   "execution_count": null,
   "metadata": {},
   "outputs": [],
   "source": [
    "preds_t_VIS = np.array(sum(VIS, []))\n",
    "preds_t_KIN = np.array(sum(KIN, []))\n",
    "preds_t_TOG = np.array(sum(TOG, []))\n",
    "ground_truth = np.array(sum(GT, []))"
   ]
  },
  {
   "cell_type": "code",
   "execution_count": null,
   "metadata": {},
   "outputs": [],
   "source": [
    "fpr = dict()\n",
    "tpr = dict()\n",
    "thr = dict()\n",
    "roc_auc = dict()\n",
    "for i in range(3):\n",
    "    fpr[i], tpr[i], thr[i] = roc_curve(ground_truth[:, i], preds_t_VIS[:, i])\n",
    "    roc_auc[i] = auc(fpr[i], tpr[i])\n",
    "    \n",
    "# Compute micro-average ROC curve and ROC area\n",
    "fpr[\"micro\"], tpr[\"micro\"], thr[\"micro\"] = roc_curve(ground_truth.ravel(), preds_t_VIS.ravel())\n",
    "roc_auc[\"micro\"] = auc(fpr[\"micro\"], tpr[\"micro\"])\n",
    "\n",
    "# First aggregate all false positive rates\n",
    "all_fpr = np.unique(np.concatenate([fpr[i] for i in range(3)]))\n",
    "all_thr = np.unique(np.concatenate([thr[i] for i in range(3)]))\n",
    "\n",
    "# Then interpolate all ROC curves at this points\n",
    "mean_tpr = np.zeros_like(all_fpr)\n",
    "for i in range(3):\n",
    "    mean_tpr += np.interp(all_fpr, fpr[i], tpr[i])\n",
    "    \n",
    "# Finally average it and compute AUC\n",
    "mean_tpr /= 3\n",
    "\n",
    "fpr[\"macro\"] = all_fpr\n",
    "tpr[\"macro\"] = mean_tpr\n",
    "roc_auc[\"macro\"] = auc(fpr[\"macro\"], tpr[\"macro\"])\n",
    "\n",
    "\n",
    "def optim_thres(fpr, tpr, threshold):\n",
    "    '''function to calculate the shortest distance from the roc curve to the \n",
    "    bast case scenario (fpr=0.,tpr=1.) and return the fpr,tpr and threshold\n",
    "    with the lowest distance'''\n",
    "    \n",
    "    TOP = np.array([0,1])\n",
    "    xy = np.array(list(zip(fpr, tpr)))\n",
    "    dist = [(i, distance.euclidean(TOP, v)) for i,v in enumerate(xy)]\n",
    "    dist.sort(key = lambda x: x[1], reverse=False)\n",
    "    i, d = dist[0]\n",
    "    return (fpr[i], tpr[i], threshold[i])\n",
    "\n",
    "opt_thr = dict()\n",
    "for i in range(3):\n",
    "    opt_thr[i] = optim_thres(fpr[i],tpr[i],thr[i])\n",
    "    \n",
    "def compare_train_test(predictions, truth, bins=30):\n",
    "    '''Function to plot ROC and the classifier output the best threshold,\n",
    "     the inputs are from fastai ImageDataBunch'''\n",
    "    \n",
    "    import matplotlib.colors as mcolors\n",
    "    from matplotlib import pyplot as plt\n",
    "    import matplotlib as mpl\n",
    "\n",
    "    mpl.rcParams['text.usetex']=True\n",
    "    mpl.rcParams['text.latex.preamble'] = [r'\\usepackage{bm}']\n",
    "    plt.rcParams.update({'font.size': 17})\n",
    "    mpl.rcParams[\"legend.framealpha\"] = 1.0\n",
    "    \n",
    "    \n",
    "    decisions = defaultdict(list)\n",
    "    for pred in predictions:\n",
    "        decisions[0].append(pred[0])\n",
    "        decisions[1].append(pred[1])\n",
    "        decisions[2].append(pred[2])\n",
    "        decisions[3].append(pred[3])\n",
    "        decisions[4].append(pred[4])\n",
    "        \n",
    "\n",
    "    low = min(np.min(d) for d in (decisions[0],decisions[1],decisions[2],decisions[3],decisions[4]))\n",
    "    high = max(np.max(d) for d in (decisions[0],decisions[1],decisions[2],decisions[3],decisions[4]))\n",
    "\n",
    "    low_high = (low,high)\n",
    "\n",
    "    ########################\n",
    "    proc_label = {0:'Signal',\n",
    "                  1:'$WW+$jets',\n",
    "                  2:'$W+$jets',\n",
    "                  3:'$\\\\mathrm{Z^0}+$jets',\n",
    "                  4:'$t\\\\overline{t}$'\n",
    "                  }\n",
    " \n",
    "    ########################\n",
    "    fig, ax = plt.subplots(1,2,figsize=(16,6))\n",
    "\n",
    "    ###### ROC plots\n",
    "    \n",
    "\n",
    "    fpr = dict()\n",
    "    tpr = dict()\n",
    "    thr = dict()\n",
    "    roc_auc = dict()\n",
    "    for i in range(5):\n",
    "        fpr[i], tpr[i], thr[i] = roc_curve(truth[:, i], predictions[:, i])\n",
    "        roc_auc[i] = auc(fpr[i], tpr[i])\n",
    "\n",
    "    fpr[\"micro\"], tpr[\"micro\"], thr[\"micro\"] = roc_curve(truth.ravel(), predictions.ravel())\n",
    "    roc_auc[\"micro\"] = auc(fpr[\"micro\"], tpr[\"micro\"])\n",
    "    \n",
    "    lw = 2.4\n",
    "\n",
    "    colors = cycle(['tab:blue', 'tab:red', 'tab:green', 'tab:orange', 'tab:purple', 'tab:brown','tab:pink', 'tab:gray', 'tab:olive', 'tab:cyan'])\n",
    "    for i, color in zip(range(5), colors):\n",
    "        if i == 0:\n",
    "            ax[0].plot(1 - fpr[i], tpr[i], color=color, lw=lw, ls='--',\n",
    "                       label='{0} (AUC = {1:0.2f})'\n",
    "                       ''.format(proc_label[i], roc_auc[i]))\n",
    "            #idx = (np.abs(thr[i] - 4.09)).argmin()\n",
    "            #ax[0].plot(1 - fpr[i][idx], tpr[i][idx] + 0.05, color=color, lw=lw,marker='*', markersize=16)\n",
    "        else:\n",
    "            ax[0].plot(1 - fpr[i], tpr[i], color=color, lw=lw,\n",
    "                       label='{0} (AUC = {1:0.2f})'\n",
    "                       ''.format(proc_label[i], roc_auc[i]))\n",
    "            \n",
    "        #xp, yp, thr2 = optim_thres(fpr[i], tpr[i], thr[i])\n",
    "        #label = \"threshold: \" + str(round(thr2, 2))\n",
    "        #ax[0].plot(1-xp, yp,markers[i], color=color, label=label, markersize=12)\n",
    "        #ax[0].axvline(1 - xp,ymin=0, ymax=1, \n",
    "        #              label='$1-\\epsilon_{B}:%.2f$, $\\epsilon_{S}:%.2f$' %(1-xp,yp),\n",
    "        #             linestyle='--',c=color)\n",
    "        #ax[0].axhline(yp,xmin=0, xmax=round(1-xp,2), linestyle='--',c=color)\n",
    "        ax[0].grid()\n",
    "\n",
    "    ax[0].set_xlim([0, 1.016])\n",
    "    ax[0].set_ylim([0, 1.05])\n",
    "    ax[0].tick_params(axis='both',direction='in')\n",
    "    ax[0].set_xlabel('background rejection ($1-\\epsilon_{B}$)', fontsize=22)\n",
    "    ax[0].set_ylabel('signal efficiency ($\\epsilon_{S}$)', fontsize=22)\n",
    "    ax[0].set_title('Receiver operating characteristic')\n",
    "    handles, labels = ax[0].get_legend_handles_labels()\n",
    "    order = [0,1,2,3,4]\n",
    "    ax[0].legend([handles[idx] for idx in order],[labels[idx] for idx in order], loc='best',\n",
    "                 prop={'size': 16})\n",
    "    ax[0].tick_params(axis='both', which='major', pad=12)\n",
    "    ###### Decisions Plots\n",
    "    colors2 = cycle(['tab:blue', 'tab:red', 'tab:green', 'tab:orange', 'tab:purple', 'tab:brown','tab:pink', 'tab:gray', 'tab:olive', 'tab:cyan'])\n",
    "    for i, color in zip(range(5), colors2):\n",
    "        if i == 0:\n",
    "            a1,a2,_ = ax[1].hist(decisions[i], color=color, alpha=0.8, log=False, lw=2, ls='--',\n",
    "                       range=low_high, bins=bins, histtype='step', \n",
    "                       density=True,stacked=False, label='{}'.format(proc_label[i]))\n",
    "            #idxa = (np.abs(a2 - 4.09)).argmin()\n",
    "            #print(idxa,min(a1))\n",
    "            #ax[1].plot(4.09, a1[idxa -1], color=color, lw=lw,marker='*', markersize=16)\n",
    "\n",
    "        else:\n",
    "            ax[1].hist(decisions[i], color=color, alpha=0.8, log=False, lw=2,\n",
    "                       range=low_high, bins=bins, histtype='step', \n",
    "                       density=True,stacked=False, label='{}'.format(proc_label[i]))\n",
    "\n",
    "\n",
    "    #ax[1].set_yscale('log')\n",
    "    ax[1].set_title('Predicted confidence scores for samples')\n",
    "    ax[1].set_xlabel(\"HybridNet scores\", fontsize=22)\n",
    "    ax[1].set_ylabel(\"Arbitrary units\", fontsize=22)\n",
    "    handles, labels = ax[1].get_legend_handles_labels()\n",
    "    order = [0,1,2,3,4]\n",
    "    ax[1].legend([handles[idx] for idx in order],[labels[idx] for idx in order], loc='upper center',\n",
    "                 prop={'size': 16}, bbox_to_anchor=(0.5, 0., 0.4, 1.0))\n",
    "    ax[1].grid()\n",
    "    ###########################################\n",
    "    pth_save = os.path.join('./','significance plots')\n",
    "    if not os.path.exists(pth_save):\n",
    "        os.makedirs(pth_save)\n",
    "\n",
    "    plt.savefig(os.path.join(pth_save,'Vision_ROC_{}_{}.pdf').format('resnet34',\n",
    "                                                                 'BCE'.replace('()','')),\n",
    "                bbox_inches='tight'               \n",
    "               )\n",
    "    plt.show()"
   ]
  },
  {
   "cell_type": "code",
   "execution_count": null,
   "metadata": {},
   "outputs": [],
   "source": [
    "compare_train_test(preds_t_VIS,ground_truth)"
   ]
  },
  {
   "cell_type": "code",
   "execution_count": null,
   "metadata": {},
   "outputs": [],
   "source": [
    "fpr = dict()\n",
    "tpr = dict()\n",
    "thr = dict()\n",
    "roc_auc = dict()\n",
    "for i in range(3):\n",
    "    fpr[i], tpr[i], thr[i] = roc_curve(ground_truth[:, i], preds_t_KIN[:, i])\n",
    "    roc_auc[i] = auc(fpr[i], tpr[i])\n",
    "    \n",
    "# Compute micro-average ROC curve and ROC area\n",
    "fpr[\"micro\"], tpr[\"micro\"], thr[\"micro\"] = roc_curve(ground_truth.ravel(), preds_t_KIN.ravel())\n",
    "roc_auc[\"micro\"] = auc(fpr[\"micro\"], tpr[\"micro\"])\n",
    "\n",
    "# First aggregate all false positive rates\n",
    "all_fpr = np.unique(np.concatenate([fpr[i] for i in range(3)]))\n",
    "all_thr = np.unique(np.concatenate([thr[i] for i in range(3)]))\n",
    "\n",
    "# Then interpolate all ROC curves at this points\n",
    "mean_tpr = np.zeros_like(all_fpr)\n",
    "for i in range(3):\n",
    "    mean_tpr += np.interp(all_fpr, fpr[i], tpr[i])\n",
    "    \n",
    "# Finally average it and compute AUC\n",
    "mean_tpr /= 3\n",
    "\n",
    "fpr[\"macro\"] = all_fpr\n",
    "tpr[\"macro\"] = mean_tpr\n",
    "roc_auc[\"macro\"] = auc(fpr[\"macro\"], tpr[\"macro\"])\n",
    "\n",
    "\n",
    "def optim_thres(fpr, tpr, threshold):\n",
    "    '''function to calculate the shortest distance from the roc curve to the \n",
    "    bast case scenario (fpr=0.,tpr=1.) and return the fpr,tpr and threshold\n",
    "    with the lowest distance'''\n",
    "    \n",
    "    TOP = np.array([0,1])\n",
    "    xy = np.array(list(zip(fpr, tpr)))\n",
    "    dist = [(i, distance.euclidean(TOP, v)) for i,v in enumerate(xy)]\n",
    "    dist.sort(key = lambda x: x[1], reverse=False)\n",
    "    i, d = dist[0]\n",
    "    return (fpr[i], tpr[i], threshold[i])\n",
    "\n",
    "opt_thr = dict()\n",
    "for i in range(3):\n",
    "    opt_thr[i] = optim_thres(fpr[i],tpr[i],thr[i])\n",
    "    \n",
    "def compare_train_test(predictions, truth, bins=30):\n",
    "    '''Function to plot ROC and the classifier output the best threshold,\n",
    "     the inputs are from fastai ImageDataBunch'''\n",
    "    \n",
    "    import matplotlib.colors as mcolors\n",
    "    from matplotlib import pyplot as plt\n",
    "    import matplotlib as mpl\n",
    "\n",
    "    mpl.rcParams['text.usetex']=True\n",
    "    mpl.rcParams['text.latex.preamble'] = [r'\\usepackage{bm}']\n",
    "    plt.rcParams.update({'font.size': 17})\n",
    "    mpl.rcParams[\"legend.framealpha\"] = 1.0\n",
    "    \n",
    "    \n",
    "    decisions = defaultdict(list)\n",
    "    for pred in predictions:\n",
    "        decisions[0].append(pred[0])\n",
    "        decisions[1].append(pred[1])\n",
    "        decisions[2].append(pred[2])\n",
    "        decisions[3].append(pred[3])\n",
    "        decisions[4].append(pred[4])\n",
    "        \n",
    "\n",
    "    low = min(np.min(d) for d in (decisions[0],decisions[1],decisions[2],decisions[3],decisions[4]))\n",
    "    high = max(np.max(d) for d in (decisions[0],decisions[1],decisions[2],decisions[3],decisions[4]))\n",
    "\n",
    "    low_high = (low,high)\n",
    "\n",
    "    ########################\n",
    "    proc_label = {0:'Signal',\n",
    "                  1:'$WW+$jets',\n",
    "                  2:'$W+$jets',\n",
    "                  3:'$\\\\mathrm{Z^0}+$jets',\n",
    "                  4:'$t\\\\overline{t}$'\n",
    "                  }\n",
    " \n",
    "    ########################\n",
    "    fig, ax = plt.subplots(1,2,figsize=(16,6))\n",
    "\n",
    "    ###### ROC plots\n",
    "    \n",
    "\n",
    "    fpr = dict()\n",
    "    tpr = dict()\n",
    "    thr = dict()\n",
    "    roc_auc = dict()\n",
    "    for i in range(5):\n",
    "        fpr[i], tpr[i], thr[i] = roc_curve(truth[:, i], predictions[:, i])\n",
    "        roc_auc[i] = auc(fpr[i], tpr[i])\n",
    "\n",
    "    fpr[\"micro\"], tpr[\"micro\"], thr[\"micro\"] = roc_curve(truth.ravel(), predictions.ravel())\n",
    "    roc_auc[\"micro\"] = auc(fpr[\"micro\"], tpr[\"micro\"])\n",
    "    \n",
    "    lw = 2.4\n",
    "\n",
    "    colors = cycle(['tab:blue', 'tab:red', 'tab:green', 'tab:orange', 'tab:purple', 'tab:brown','tab:pink', 'tab:gray', 'tab:olive', 'tab:cyan'])\n",
    "    for i, color in zip(range(5), colors):\n",
    "        if i == 0:\n",
    "            ax[0].plot(1 - fpr[i], tpr[i], color=color, lw=lw, ls='--',\n",
    "                       label='{0} (AUC = {1:0.2f})'\n",
    "                       ''.format(proc_label[i], roc_auc[i]))\n",
    "            #idx = (np.abs(thr[i] - 4.09)).argmin()\n",
    "            #ax[0].plot(1 - fpr[i][idx], tpr[i][idx] + 0.05, color=color, lw=lw,marker='*', markersize=16)\n",
    "        else:\n",
    "            ax[0].plot(1 - fpr[i], tpr[i], color=color, lw=lw,\n",
    "                       label='{0} (AUC = {1:0.2f})'\n",
    "                       ''.format(proc_label[i], roc_auc[i]))\n",
    "            \n",
    "        #xp, yp, thr2 = optim_thres(fpr[i], tpr[i], thr[i])\n",
    "        #label = \"threshold: \" + str(round(thr2, 2))\n",
    "        #ax[0].plot(1-xp, yp,markers[i], color=color, label=label, markersize=12)\n",
    "        #ax[0].axvline(1 - xp,ymin=0, ymax=1, \n",
    "        #              label='$1-\\epsilon_{B}:%.2f$, $\\epsilon_{S}:%.2f$' %(1-xp,yp),\n",
    "        #             linestyle='--',c=color)\n",
    "        #ax[0].axhline(yp,xmin=0, xmax=round(1-xp,2), linestyle='--',c=color)\n",
    "        ax[0].grid()\n",
    "\n",
    "    ax[0].set_xlim([0, 1.016])\n",
    "    ax[0].set_ylim([0, 1.05])\n",
    "    ax[0].tick_params(axis='both',direction='in')\n",
    "    ax[0].set_xlabel('background rejection ($1-\\epsilon_{B}$)', fontsize=22)\n",
    "    ax[0].set_ylabel('signal efficiency ($\\epsilon_{S}$)', fontsize=22)\n",
    "    ax[0].set_title('Receiver operating characteristic')\n",
    "    handles, labels = ax[0].get_legend_handles_labels()\n",
    "    order = [0,1,2,3,4]\n",
    "    ax[0].legend([handles[idx] for idx in order],[labels[idx] for idx in order], loc='best',\n",
    "                 prop={'size': 16})\n",
    "    ax[0].tick_params(axis='both', which='major', pad=12)\n",
    "    ###### Decisions Plots\n",
    "    colors2 = cycle(['tab:blue', 'tab:red', 'tab:green', 'tab:orange', 'tab:purple', 'tab:brown','tab:pink', 'tab:gray', 'tab:olive', 'tab:cyan'])\n",
    "    for i, color in zip(range(5), colors2):\n",
    "        if i == 0:\n",
    "            a1,a2,_ = ax[1].hist(decisions[i], color=color, alpha=0.8, log=False, lw=2, ls='--',\n",
    "                       range=low_high, bins=bins, histtype='step', \n",
    "                       density=True,stacked=False, label='{}'.format(proc_label[i]))\n",
    "            #idxa = (np.abs(a2 - 4.09)).argmin()\n",
    "            #print(idxa,min(a1))\n",
    "            #ax[1].plot(4.09, a1[idxa -1], color=color, lw=lw,marker='*', markersize=16)\n",
    "\n",
    "        else:\n",
    "            ax[1].hist(decisions[i], color=color, alpha=0.8, log=False, lw=2,\n",
    "                       range=low_high, bins=bins, histtype='step', \n",
    "                       density=True,stacked=False, label='{}'.format(proc_label[i]))\n",
    "\n",
    "\n",
    "    #ax[1].set_yscale('log')\n",
    "    ax[1].set_title('Predicted confidence scores for samples')\n",
    "    ax[1].set_xlabel(\"HybridNet scores\", fontsize=22)\n",
    "    ax[1].set_ylabel(\"Arbitrary units\", fontsize=22)\n",
    "    handles, labels = ax[1].get_legend_handles_labels()\n",
    "    order = [0,1,2,3,4]\n",
    "    ax[1].legend([handles[idx] for idx in order],[labels[idx] for idx in order], loc='upper center',\n",
    "                 prop={'size': 16}, bbox_to_anchor=(0.5, 0., 0.4, 1.0))\n",
    "    ax[1].grid()\n",
    "    ###########################################\n",
    "    pth_save = os.path.join('./','significance plots')\n",
    "    if not os.path.exists(pth_save):\n",
    "        os.makedirs(pth_save)\n",
    "\n",
    "    plt.savefig(os.path.join(pth_save,'Kin_ROC_{}_{}.pdf').format('resnet34',\n",
    "                                                                 'BCE'.replace('()','')),\n",
    "                bbox_inches='tight'               \n",
    "               )\n",
    "    plt.show()"
   ]
  },
  {
   "cell_type": "code",
   "execution_count": null,
   "metadata": {},
   "outputs": [],
   "source": [
    "compare_train_test(preds_t_KIN,ground_truth)"
   ]
  },
  {
   "cell_type": "code",
   "execution_count": null,
   "metadata": {},
   "outputs": [],
   "source": [
    "fpr = dict()\n",
    "tpr = dict()\n",
    "thr = dict()\n",
    "roc_auc = dict()\n",
    "for i in range(3):\n",
    "    fpr[i], tpr[i], thr[i] = roc_curve(ground_truth[:, i], preds_t_TOG[:, i])\n",
    "    roc_auc[i] = auc(fpr[i], tpr[i])\n",
    "    \n",
    "# Compute micro-average ROC curve and ROC area\n",
    "fpr[\"micro\"], tpr[\"micro\"], thr[\"micro\"] = roc_curve(ground_truth.ravel(), preds_t_TOG.ravel())\n",
    "roc_auc[\"micro\"] = auc(fpr[\"micro\"], tpr[\"micro\"])\n",
    "\n",
    "# First aggregate all false positive rates\n",
    "all_fpr = np.unique(np.concatenate([fpr[i] for i in range(3)]))\n",
    "all_thr = np.unique(np.concatenate([thr[i] for i in range(3)]))\n",
    "\n",
    "# Then interpolate all ROC curves at this points\n",
    "mean_tpr = np.zeros_like(all_fpr)\n",
    "for i in range(3):\n",
    "    mean_tpr += np.interp(all_fpr, fpr[i], tpr[i])\n",
    "    \n",
    "# Finally average it and compute AUC\n",
    "mean_tpr /= 3\n",
    "\n",
    "fpr[\"macro\"] = all_fpr\n",
    "tpr[\"macro\"] = mean_tpr\n",
    "roc_auc[\"macro\"] = auc(fpr[\"macro\"], tpr[\"macro\"])\n",
    "\n",
    "\n",
    "def optim_thres(fpr, tpr, threshold):\n",
    "    '''function to calculate the shortest distance from the roc curve to the \n",
    "    bast case scenario (fpr=0.,tpr=1.) and return the fpr,tpr and threshold\n",
    "    with the lowest distance'''\n",
    "    \n",
    "    TOP = np.array([0,1])\n",
    "    xy = np.array(list(zip(fpr, tpr)))\n",
    "    dist = [(i, distance.euclidean(TOP, v)) for i,v in enumerate(xy)]\n",
    "    dist.sort(key = lambda x: x[1], reverse=False)\n",
    "    i, d = dist[0]\n",
    "    return (fpr[i], tpr[i], threshold[i])\n",
    "\n",
    "opt_thr = dict()\n",
    "for i in range(3):\n",
    "    opt_thr[i] = optim_thres(fpr[i],tpr[i],thr[i])\n",
    "    \n",
    "def compare_train_test(predictions, truth, bins=30):\n",
    "    '''Function to plot ROC and the classifier output the best threshold,\n",
    "     the inputs are from fastai ImageDataBunch'''\n",
    "    \n",
    "    import matplotlib.colors as mcolors\n",
    "    from matplotlib import pyplot as plt\n",
    "    import matplotlib as mpl\n",
    "\n",
    "    mpl.rcParams['text.usetex']=True\n",
    "    mpl.rcParams['text.latex.preamble'] = [r'\\usepackage{bm}']\n",
    "    plt.rcParams.update({'font.size': 17})\n",
    "    mpl.rcParams[\"legend.framealpha\"] = 1.0\n",
    "    \n",
    "    \n",
    "    decisions = defaultdict(list)\n",
    "    for pred in predictions:\n",
    "        decisions[0].append(pred[0])\n",
    "        decisions[1].append(pred[1])\n",
    "        decisions[2].append(pred[2])\n",
    "        decisions[3].append(pred[3])\n",
    "        decisions[4].append(pred[4])\n",
    "        \n",
    "\n",
    "    low = min(np.min(d) for d in (decisions[0],decisions[1],decisions[2],decisions[3],decisions[4]))\n",
    "    high = max(np.max(d) for d in (decisions[0],decisions[1],decisions[2],decisions[3],decisions[4]))\n",
    "\n",
    "    low_high = (low,high)\n",
    "\n",
    "    ########################\n",
    "    proc_label = {0:'Signal',\n",
    "                  1:'$WW+$jets',\n",
    "                  2:'$W+$jets',\n",
    "                  3:'$\\\\mathrm{Z^0}+$jets',\n",
    "                  4:'$t\\\\overline{t}$'\n",
    "                  }\n",
    " \n",
    "    ########################\n",
    "    fig, ax = plt.subplots(1,2,figsize=(16,6))\n",
    "\n",
    "    ###### ROC plots\n",
    "    \n",
    "\n",
    "    fpr = dict()\n",
    "    tpr = dict()\n",
    "    thr = dict()\n",
    "    roc_auc = dict()\n",
    "    for i in range(5):\n",
    "        fpr[i], tpr[i], thr[i] = roc_curve(truth[:, i], predictions[:, i])\n",
    "        roc_auc[i] = auc(fpr[i], tpr[i])\n",
    "\n",
    "    fpr[\"micro\"], tpr[\"micro\"], thr[\"micro\"] = roc_curve(truth.ravel(), predictions.ravel())\n",
    "    roc_auc[\"micro\"] = auc(fpr[\"micro\"], tpr[\"micro\"])\n",
    "    \n",
    "    lw = 2.4\n",
    "\n",
    "    colors = cycle(['tab:blue', 'tab:red', 'tab:green', 'tab:orange', 'tab:purple', 'tab:brown','tab:pink', 'tab:gray', 'tab:olive', 'tab:cyan'])\n",
    "    for i, color in zip(range(5), colors):\n",
    "        if i == 0:\n",
    "            ax[0].plot(1 - fpr[i], tpr[i], color=color, lw=lw, ls='--',\n",
    "                       label='{0} (AUC = {1:0.2f})'\n",
    "                       ''.format(proc_label[i], roc_auc[i]))\n",
    "            #idx = (np.abs(thr[i] - 4.09)).argmin()\n",
    "            #ax[0].plot(1 - fpr[i][idx], tpr[i][idx] + 0.05, color=color, lw=lw,marker='*', markersize=16)\n",
    "        else:\n",
    "            ax[0].plot(1 - fpr[i], tpr[i], color=color, lw=lw,\n",
    "                       label='{0} (AUC = {1:0.2f})'\n",
    "                       ''.format(proc_label[i], roc_auc[i]))\n",
    "            \n",
    "        #xp, yp, thr2 = optim_thres(fpr[i], tpr[i], thr[i])\n",
    "        #label = \"threshold: \" + str(round(thr2, 2))\n",
    "        #ax[0].plot(1-xp, yp,markers[i], color=color, label=label, markersize=12)\n",
    "        #ax[0].axvline(1 - xp,ymin=0, ymax=1, \n",
    "        #              label='$1-\\epsilon_{B}:%.2f$, $\\epsilon_{S}:%.2f$' %(1-xp,yp),\n",
    "        #             linestyle='--',c=color)\n",
    "        #ax[0].axhline(yp,xmin=0, xmax=round(1-xp,2), linestyle='--',c=color)\n",
    "        ax[0].grid()\n",
    "\n",
    "    ax[0].set_xlim([0, 1.016])\n",
    "    ax[0].set_ylim([0, 1.05])\n",
    "    ax[0].tick_params(axis='both',direction='in')\n",
    "    ax[0].set_xlabel('background rejection ($1-\\epsilon_{B}$)', fontsize=22)\n",
    "    ax[0].set_ylabel('signal efficiency ($\\epsilon_{S}$)', fontsize=22)\n",
    "    ax[0].set_title('Receiver operating characteristic')\n",
    "    handles, labels = ax[0].get_legend_handles_labels()\n",
    "    order = [0,1,2,3,4]\n",
    "    ax[0].legend([handles[idx] for idx in order],[labels[idx] for idx in order], loc='best',\n",
    "                 prop={'size': 16})\n",
    "    ax[0].tick_params(axis='both', which='major', pad=12)\n",
    "    ###### Decisions Plots\n",
    "    colors2 = cycle(['tab:blue', 'tab:red', 'tab:green', 'tab:orange', 'tab:purple', 'tab:brown','tab:pink', 'tab:gray', 'tab:olive', 'tab:cyan'])\n",
    "    for i, color in zip(range(5), colors2):\n",
    "        if i == 0:\n",
    "            a1,a2,_ = ax[1].hist(decisions[i], color=color, alpha=0.8, log=False, lw=2, ls='--',\n",
    "                       range=low_high, bins=bins, histtype='step', \n",
    "                       density=True,stacked=False, label='{}'.format(proc_label[i]))\n",
    "            #idxa = (np.abs(a2 - 4.09)).argmin()\n",
    "            #print(idxa,min(a1))\n",
    "            #ax[1].plot(4.09, a1[idxa -1], color=color, lw=lw,marker='*', markersize=16)\n",
    "\n",
    "        else:\n",
    "            ax[1].hist(decisions[i], color=color, alpha=0.8, log=False, lw=2,\n",
    "                       range=low_high, bins=bins, histtype='step', \n",
    "                       density=True,stacked=False, label='{}'.format(proc_label[i]))\n",
    "\n",
    "\n",
    "    #ax[1].set_yscale('log')\n",
    "    ax[1].set_title('Predicted confidence scores for samples')\n",
    "    ax[1].set_xlabel(\"HybridNet scores\", fontsize=22)\n",
    "    ax[1].set_ylabel(\"Arbitrary units\", fontsize=22)\n",
    "    handles, labels = ax[1].get_legend_handles_labels()\n",
    "    order = [0,1,2,3,4]\n",
    "    ax[1].legend([handles[idx] for idx in order],[labels[idx] for idx in order], loc='upper center',\n",
    "                 prop={'size': 16}, bbox_to_anchor=(0.5, 0., 0.4, 1.0))\n",
    "    ax[1].grid()\n",
    "    ###########################################\n",
    "    pth_save = os.path.join('./','significance plots')\n",
    "    if not os.path.exists(pth_save):\n",
    "        os.makedirs(pth_save)\n",
    "\n",
    "    plt.savefig(os.path.join(pth_save,'Together_ROC_{}_{}.pdf').format('resnet34',\n",
    "                                                                 'BCE'.replace('()','')),\n",
    "                bbox_inches='tight'               \n",
    "               )\n",
    "    plt.show()"
   ]
  },
  {
   "cell_type": "code",
   "execution_count": null,
   "metadata": {},
   "outputs": [],
   "source": [
    "compare_train_test(preds_t_TOG,ground_truth)"
   ]
  },
  {
   "cell_type": "code",
   "execution_count": null,
   "metadata": {},
   "outputs": [],
   "source": []
  },
  {
   "cell_type": "code",
   "execution_count": null,
   "metadata": {},
   "outputs": [],
   "source": []
  },
  {
   "cell_type": "code",
   "execution_count": null,
   "metadata": {},
   "outputs": [],
   "source": []
  },
  {
   "cell_type": "code",
   "execution_count": null,
   "metadata": {},
   "outputs": [],
   "source": []
  },
  {
   "cell_type": "code",
   "execution_count": null,
   "metadata": {},
   "outputs": [],
   "source": []
  },
  {
   "cell_type": "code",
   "execution_count": null,
   "metadata": {},
   "outputs": [],
   "source": []
  },
  {
   "cell_type": "code",
   "execution_count": null,
   "metadata": {},
   "outputs": [],
   "source": []
  },
  {
   "cell_type": "code",
   "execution_count": null,
   "metadata": {},
   "outputs": [],
   "source": []
  },
  {
   "cell_type": "code",
   "execution_count": null,
   "metadata": {},
   "outputs": [],
   "source": []
  },
  {
   "cell_type": "code",
   "execution_count": null,
   "metadata": {},
   "outputs": [],
   "source": []
  },
  {
   "cell_type": "code",
   "execution_count": null,
   "metadata": {},
   "outputs": [],
   "source": []
  },
  {
   "cell_type": "code",
   "execution_count": null,
   "metadata": {},
   "outputs": [],
   "source": []
  },
  {
   "cell_type": "code",
   "execution_count": null,
   "metadata": {},
   "outputs": [],
   "source": []
  },
  {
   "cell_type": "code",
   "execution_count": null,
   "metadata": {},
   "outputs": [],
   "source": []
  },
  {
   "cell_type": "code",
   "execution_count": null,
   "metadata": {},
   "outputs": [],
   "source": []
  },
  {
   "cell_type": "code",
   "execution_count": null,
   "metadata": {},
   "outputs": [],
   "source": []
  },
  {
   "cell_type": "code",
   "execution_count": null,
   "metadata": {},
   "outputs": [],
   "source": []
  },
  {
   "cell_type": "code",
   "execution_count": null,
   "metadata": {},
   "outputs": [],
   "source": []
  },
  {
   "cell_type": "code",
   "execution_count": null,
   "metadata": {},
   "outputs": [],
   "source": []
  },
  {
   "cell_type": "code",
   "execution_count": null,
   "metadata": {},
   "outputs": [],
   "source": []
  },
  {
   "cell_type": "code",
   "execution_count": null,
   "metadata": {},
   "outputs": [],
   "source": []
  },
  {
   "cell_type": "code",
   "execution_count": null,
   "metadata": {},
   "outputs": [],
   "source": []
  },
  {
   "cell_type": "code",
   "execution_count": null,
   "metadata": {},
   "outputs": [],
   "source": []
  },
  {
   "cell_type": "code",
   "execution_count": null,
   "metadata": {},
   "outputs": [],
   "source": []
  },
  {
   "cell_type": "code",
   "execution_count": null,
   "metadata": {},
   "outputs": [],
   "source": []
  },
  {
   "cell_type": "code",
   "execution_count": null,
   "metadata": {},
   "outputs": [],
   "source": []
  },
  {
   "cell_type": "code",
   "execution_count": null,
   "metadata": {},
   "outputs": [],
   "source": [
    "learn.summary()"
   ]
  },
  {
   "cell_type": "code",
   "execution_count": null,
   "metadata": {},
   "outputs": [],
   "source": [
    "learn.lr_find()"
   ]
  },
  {
   "cell_type": "code",
   "execution_count": null,
   "metadata": {},
   "outputs": [],
   "source": [
    "learn.fit_one_cycle(2, lr_max=0.0008317, cbs=[SaveModelCallback(monitor='average_precision_score')])"
   ]
  },
  {
   "cell_type": "code",
   "execution_count": null,
   "metadata": {},
   "outputs": [],
   "source": [
    "#learn.fit_one_cycle(15, lr_max=0.069183)"
   ]
  },
  {
   "cell_type": "code",
   "execution_count": null,
   "metadata": {},
   "outputs": [],
   "source": [
    "learn.save('/home/felipe/JoaoPino/vlq_joao_StrongProduction/Hybrid_model/OlaOla')"
   ]
  },
  {
   "cell_type": "code",
   "execution_count": null,
   "metadata": {},
   "outputs": [],
   "source": [
    "#learn.save('/home/felipe/JoaoPino/vlq_joao/models/HybridNet_InitialCodesTest')"
   ]
  },
  {
   "cell_type": "code",
   "execution_count": null,
   "metadata": {},
   "outputs": [],
   "source": [
    "#learn.fine_tune(20,cbs=[SaveModelCallback(monitor='average_precision_score')])"
   ]
  },
  {
   "cell_type": "code",
   "execution_count": null,
   "metadata": {},
   "outputs": [],
   "source": [
    "#learn.save('Hybrid_Net_resnet34_FullDataSet_FineTuned')"
   ]
  },
  {
   "cell_type": "code",
   "execution_count": null,
   "metadata": {},
   "outputs": [],
   "source": [
    "learn.get_preds(dl = dls.valid)"
   ]
  },
  {
   "cell_type": "code",
   "execution_count": null,
   "metadata": {},
   "outputs": [],
   "source": []
  },
  {
   "cell_type": "code",
   "execution_count": null,
   "metadata": {},
   "outputs": [],
   "source": []
  },
  {
   "cell_type": "code",
   "execution_count": null,
   "metadata": {},
   "outputs": [],
   "source": []
  },
  {
   "cell_type": "code",
   "execution_count": null,
   "metadata": {},
   "outputs": [],
   "source": []
  },
  {
   "cell_type": "code",
   "execution_count": null,
   "metadata": {},
   "outputs": [],
   "source": []
  },
  {
   "cell_type": "code",
   "execution_count": null,
   "metadata": {},
   "outputs": [],
   "source": []
  },
  {
   "cell_type": "code",
   "execution_count": null,
   "metadata": {},
   "outputs": [],
   "source": [
    "learn.load('/home/felipe/JoaoPino/vlq_joao_StrongProduction/Hybrid_model/HybridNet_AsimovMetric')"
   ]
  },
  {
   "cell_type": "code",
   "execution_count": null,
   "metadata": {},
   "outputs": [],
   "source": [
    "#dls.valid.one_batch()"
   ]
  },
  {
   "cell_type": "code",
   "execution_count": null,
   "metadata": {},
   "outputs": [],
   "source": []
  },
  {
   "cell_type": "code",
   "execution_count": null,
   "metadata": {},
   "outputs": [],
   "source": [
    "preds_vision = learn.get_preds(dl=dls.valid)"
   ]
  },
  {
   "cell_type": "code",
   "execution_count": null,
   "metadata": {},
   "outputs": [],
   "source": []
  },
  {
   "cell_type": "code",
   "execution_count": null,
   "metadata": {},
   "outputs": [],
   "source": []
  },
  {
   "cell_type": "code",
   "execution_count": null,
   "metadata": {},
   "outputs": [],
   "source": []
  },
  {
   "cell_type": "code",
   "execution_count": null,
   "metadata": {},
   "outputs": [],
   "source": []
  },
  {
   "cell_type": "code",
   "execution_count": null,
   "metadata": {},
   "outputs": [],
   "source": []
  },
  {
   "cell_type": "code",
   "execution_count": null,
   "metadata": {},
   "outputs": [],
   "source": []
  },
  {
   "cell_type": "code",
   "execution_count": null,
   "metadata": {},
   "outputs": [],
   "source": []
  },
  {
   "cell_type": "code",
   "execution_count": null,
   "metadata": {},
   "outputs": [],
   "source": []
  },
  {
   "cell_type": "code",
   "execution_count": null,
   "metadata": {},
   "outputs": [],
   "source": []
  },
  {
   "cell_type": "code",
   "execution_count": null,
   "metadata": {},
   "outputs": [],
   "source": [
    "preds = learn.get_preds(dl=dls.valid)"
   ]
  },
  {
   "cell_type": "code",
   "execution_count": null,
   "metadata": {},
   "outputs": [],
   "source": [
    "#preds_t = preds_soft\n",
    "preds_t = preds[0]\n",
    "ground_truth = preds[1]"
   ]
  },
  {
   "cell_type": "code",
   "execution_count": null,
   "metadata": {},
   "outputs": [],
   "source": [
    "preds_numpy = preds_t.detach().cpu().numpy()\n",
    "ground_truth_numpy = ground_truth.detach().cpu().numpy()"
   ]
  },
  {
   "cell_type": "code",
   "execution_count": null,
   "metadata": {},
   "outputs": [],
   "source": [
    "from numpy import savez_compressed\n",
    "savez_compressed('//home/felipe/JoaoPino/vlq_joao_StrongProduction/Prediction_data/800GeV/ground_truth_vision.npz', ground_truth_numpy)\n",
    "savez_compressed('/home/felipe/JoaoPino/vlq_joao_StrongProduction/Prediction_data/800GeV/predictions_vision.npz', preds_numpy)"
   ]
  },
  {
   "cell_type": "code",
   "execution_count": null,
   "metadata": {},
   "outputs": [],
   "source": [
    "#Extracting predictions"
   ]
  },
  {
   "cell_type": "code",
   "execution_count": 37,
   "metadata": {},
   "outputs": [],
   "source": [
    "from sklearn.metrics import precision_score, precision_recall_curve, average_precision_score,\\\n",
    "accuracy_score,roc_curve, auc, f1_score\n",
    "from sklearn.metrics import roc_auc_score\n",
    "from sklearn.preprocessing import label_binarize\n",
    "from itertools import cycle\n",
    "from scipy import interp\n",
    "import matplotlib.colors as mcolors"
   ]
  },
  {
   "cell_type": "code",
   "execution_count": null,
   "metadata": {},
   "outputs": [],
   "source": [
    "#preds = learn.get_preds(dl=dls.valid)"
   ]
  },
  {
   "cell_type": "code",
   "execution_count": null,
   "metadata": {},
   "outputs": [],
   "source": [
    "soft_layer=torch.nn.Softmax(dim=1)\n",
    "preds_soft=soft_layer(preds[0])"
   ]
  },
  {
   "cell_type": "code",
   "execution_count": null,
   "metadata": {},
   "outputs": [],
   "source": [
    "#preds_t = preds_soft\n",
    "preds_t = preds[0]\n",
    "ground_truth = preds[1]"
   ]
  },
  {
   "cell_type": "code",
   "execution_count": null,
   "metadata": {},
   "outputs": [],
   "source": [
    "preds_numpy = preds_t.detach().cpu().numpy()\n",
    "ground_truth_numpy = ground_truth.detach().cpu().numpy()"
   ]
  },
  {
   "cell_type": "code",
   "execution_count": null,
   "metadata": {},
   "outputs": [],
   "source": [
    "preds_numpy"
   ]
  },
  {
   "cell_type": "code",
   "execution_count": null,
   "metadata": {},
   "outputs": [],
   "source": [
    "ground_truth_numpy"
   ]
  },
  {
   "cell_type": "code",
   "execution_count": null,
   "metadata": {},
   "outputs": [],
   "source": [
    "from numpy import savez_compressed\n",
    "savez_compressed('//home/felipe/JoaoPino/vlq_joao_StrongProduction/Prediction_data/800GeV/ground_truth_1200.npz', ground_truth_numpy)\n",
    "savez_compressed('/home/felipe/JoaoPino/vlq_joao_StrongProduction/Prediction_data/800GeV/predictions_1700.npz', preds_numpy)"
   ]
  },
  {
   "cell_type": "code",
   "execution_count": 153,
   "metadata": {},
   "outputs": [],
   "source": [
    "ground_truth = np.load('/home/felipe/JoaoPino/vlq_joao_StrongProduction/Prediction_data/800GeV/ground_truth_1700.npz',allow_pickle=True)\n",
    "preds = np.load('/home/felipe/JoaoPino/vlq_joao_StrongProduction/Prediction_data/800GeV/predictions_1700.npz',allow_pickle=True)"
   ]
  },
  {
   "cell_type": "code",
   "execution_count": 154,
   "metadata": {},
   "outputs": [],
   "source": [
    "preds_t = preds['arr_0']\n",
    "ground_truth = ground_truth['arr_0']"
   ]
  },
  {
   "cell_type": "code",
   "execution_count": 155,
   "metadata": {},
   "outputs": [],
   "source": [
    "fpr = dict()\n",
    "tpr = dict()\n",
    "thr = dict()\n",
    "roc_auc = dict()\n",
    "for i in range(3):\n",
    "    fpr[i], tpr[i], thr[i] = roc_curve(ground_truth[:, i], preds_t[:, i])\n",
    "    roc_auc[i] = auc(fpr[i], tpr[i])"
   ]
  },
  {
   "cell_type": "code",
   "execution_count": 156,
   "metadata": {},
   "outputs": [],
   "source": [
    "# Compute micro-average ROC curve and ROC area\n",
    "fpr[\"micro\"], tpr[\"micro\"], thr[\"micro\"] = roc_curve(ground_truth.ravel(), preds_t.ravel())\n",
    "roc_auc[\"micro\"] = auc(fpr[\"micro\"], tpr[\"micro\"])"
   ]
  },
  {
   "cell_type": "code",
   "execution_count": 157,
   "metadata": {},
   "outputs": [],
   "source": [
    "# First aggregate all false positive rates\n",
    "all_fpr = np.unique(np.concatenate([fpr[i] for i in range(3)]))\n",
    "all_thr = np.unique(np.concatenate([thr[i] for i in range(3)]))"
   ]
  },
  {
   "cell_type": "code",
   "execution_count": 158,
   "metadata": {},
   "outputs": [],
   "source": [
    "# Then interpolate all ROC curves at this points\n",
    "mean_tpr = np.zeros_like(all_fpr)\n",
    "for i in range(3):\n",
    "    mean_tpr += np.interp(all_fpr, fpr[i], tpr[i])"
   ]
  },
  {
   "cell_type": "code",
   "execution_count": 159,
   "metadata": {},
   "outputs": [],
   "source": [
    "# Finally average it and compute AUC\n",
    "mean_tpr /= 3\n",
    "\n",
    "fpr[\"macro\"] = all_fpr\n",
    "tpr[\"macro\"] = mean_tpr\n",
    "roc_auc[\"macro\"] = auc(fpr[\"macro\"], tpr[\"macro\"])"
   ]
  },
  {
   "cell_type": "code",
   "execution_count": 160,
   "metadata": {},
   "outputs": [],
   "source": [
    "from scipy.spatial import distance\n",
    "\n",
    "def optim_thres(fpr, tpr, threshold):\n",
    "    '''function to calculate the shortest distance from the roc curve to the \n",
    "    bast case scenario (fpr=0.,tpr=1.) and return the fpr,tpr and threshold\n",
    "    with the lowest distance'''\n",
    "    \n",
    "    TOP = np.array([0,1])\n",
    "    xy = np.array(list(zip(fpr, tpr)))\n",
    "    dist = [(i, distance.euclidean(TOP, v)) for i,v in enumerate(xy)]\n",
    "    dist.sort(key = lambda x: x[1], reverse=False)\n",
    "    i, d = dist[0]\n",
    "    return (fpr[i], tpr[i], threshold[i])"
   ]
  },
  {
   "cell_type": "code",
   "execution_count": 161,
   "metadata": {},
   "outputs": [],
   "source": [
    "opt_thr = dict()\n",
    "for i in range(3):\n",
    "    opt_thr[i] = optim_thres(fpr[i],tpr[i],thr[i])"
   ]
  },
  {
   "cell_type": "code",
   "execution_count": 162,
   "metadata": {},
   "outputs": [],
   "source": [
    "#mpl.rcParams.keys()"
   ]
  },
  {
   "cell_type": "code",
   "execution_count": 163,
   "metadata": {},
   "outputs": [],
   "source": [
    "def compare_train_test(predictions, truth, bins=30):\n",
    "    '''Function to plot ROC and the classifier output the best threshold,\n",
    "     the inputs are from fastai ImageDataBunch'''\n",
    "    \n",
    "    import matplotlib.colors as mcolors\n",
    "    from matplotlib import pyplot as plt\n",
    "    import matplotlib as mpl\n",
    "\n",
    "    mpl.rcParams['text.usetex']=True\n",
    "    mpl.rcParams['text.latex.preamble'] = [r'\\usepackage{bm}']\n",
    "    plt.rcParams.update({'font.size': 17})\n",
    "    mpl.rcParams[\"legend.framealpha\"] = 1.0\n",
    "    \n",
    "    \n",
    "    decisions = defaultdict(list)\n",
    "    for pred in predictions:\n",
    "        decisions[0].append(pred[0])\n",
    "        decisions[1].append(pred[1])\n",
    "        decisions[2].append(pred[2])\n",
    "        decisions[3].append(pred[3])\n",
    "        decisions[4].append(pred[4])\n",
    "        \n",
    "\n",
    "    low = min(np.min(d) for d in (decisions[0],decisions[1],decisions[2],decisions[3],decisions[4]))\n",
    "    high = max(np.max(d) for d in (decisions[0],decisions[1],decisions[2],decisions[3],decisions[4]))\n",
    "\n",
    "    low_high = (low,high)\n",
    "\n",
    "    ########################\n",
    "    proc_label = {0:'Signal',\n",
    "                  1:'$WW+$jets',\n",
    "                  2:'$W+$jets',\n",
    "                  3:'$\\\\mathrm{Z^0}+$jets',\n",
    "                  4:'$t\\\\overline{t}$'\n",
    "                  }\n",
    " \n",
    "    ########################\n",
    "    fig, ax = plt.subplots(1,2,figsize=(16,6))\n",
    "\n",
    "    ###### ROC plots\n",
    "    \n",
    "\n",
    "    fpr = dict()\n",
    "    tpr = dict()\n",
    "    thr = dict()\n",
    "    roc_auc = dict()\n",
    "    for i in range(5):\n",
    "        fpr[i], tpr[i], thr[i] = roc_curve(truth[:, i], predictions[:, i])\n",
    "        roc_auc[i] = auc(fpr[i], tpr[i])\n",
    "\n",
    "    fpr[\"micro\"], tpr[\"micro\"], thr[\"micro\"] = roc_curve(truth.ravel(), predictions.ravel())\n",
    "    roc_auc[\"micro\"] = auc(fpr[\"micro\"], tpr[\"micro\"])\n",
    "    \n",
    "    lw = 2.4\n",
    "\n",
    "    colors = cycle(['tab:blue', 'tab:red', 'tab:green', 'tab:orange', 'tab:purple', 'tab:brown','tab:pink', 'tab:gray', 'tab:olive', 'tab:cyan'])\n",
    "    for i, color in zip(range(5), colors):\n",
    "        if i == 0:\n",
    "            ax[0].plot(1 - fpr[i], tpr[i], color=color, lw=lw, ls='--',\n",
    "                       label='{0} (AUC = {1:0.2f})'\n",
    "                       ''.format(proc_label[i], roc_auc[i]))\n",
    "            #idx = (np.abs(thr[i] - 4.09)).argmin()\n",
    "            #ax[0].plot(1 - fpr[i][idx], tpr[i][idx] + 0.05, color=color, lw=lw,marker='*', markersize=16)\n",
    "        else:\n",
    "            ax[0].plot(1 - fpr[i], tpr[i], color=color, lw=lw,\n",
    "                       label='{0} (AUC = {1:0.2f})'\n",
    "                       ''.format(proc_label[i], roc_auc[i]))\n",
    "            \n",
    "        #xp, yp, thr2 = optim_thres(fpr[i], tpr[i], thr[i])\n",
    "        #label = \"threshold: \" + str(round(thr2, 2))\n",
    "        #ax[0].plot(1-xp, yp,markers[i], color=color, label=label, markersize=12)\n",
    "        #ax[0].axvline(1 - xp,ymin=0, ymax=1, \n",
    "        #              label='$1-\\epsilon_{B}:%.2f$, $\\epsilon_{S}:%.2f$' %(1-xp,yp),\n",
    "        #             linestyle='--',c=color)\n",
    "        #ax[0].axhline(yp,xmin=0, xmax=round(1-xp,2), linestyle='--',c=color)\n",
    "        ax[0].grid()\n",
    "\n",
    "    ax[0].set_xlim([0, 1.016])\n",
    "    ax[0].set_ylim([0, 1.05])\n",
    "    ax[0].tick_params(axis='both',direction='in')\n",
    "    ax[0].set_xlabel('background rejection ($1-\\epsilon_{B}$)', fontsize=22)\n",
    "    ax[0].set_ylabel('signal efficiency ($\\epsilon_{S}$)', fontsize=22)\n",
    "    ax[0].set_title('Receiver operating characteristic')\n",
    "    handles, labels = ax[0].get_legend_handles_labels()\n",
    "    order = [0,1,2,3,4]\n",
    "    ax[0].legend([handles[idx] for idx in order],[labels[idx] for idx in order], loc='best',\n",
    "                 prop={'size': 16})\n",
    "    ax[0].tick_params(axis='both', which='major', pad=12)\n",
    "    ###### Decisions Plots\n",
    "    colors2 = cycle(['tab:blue', 'tab:red', 'tab:green', 'tab:orange', 'tab:purple', 'tab:brown','tab:pink', 'tab:gray', 'tab:olive', 'tab:cyan'])\n",
    "    for i, color in zip(range(5), colors2):\n",
    "        if i == 0:\n",
    "            a1,a2,_ = ax[1].hist(decisions[i], color=color, alpha=0.8, log=False, lw=2, ls='--',\n",
    "                       range=low_high, bins=bins, histtype='step', \n",
    "                       density=True,stacked=False, label='{}'.format(proc_label[i]))\n",
    "            #idxa = (np.abs(a2 - 4.09)).argmin()\n",
    "            #print(idxa,min(a1))\n",
    "            #ax[1].plot(4.09, a1[idxa -1], color=color, lw=lw,marker='*', markersize=16)\n",
    "\n",
    "        else:\n",
    "            ax[1].hist(decisions[i], color=color, alpha=0.8, log=False, lw=2,\n",
    "                       range=low_high, bins=bins, histtype='step', \n",
    "                       density=True,stacked=False, label='{}'.format(proc_label[i]))\n",
    "\n",
    "\n",
    "    #ax[1].set_yscale('log')\n",
    "    ax[1].set_title('Predicted confidence scores for samples')\n",
    "    ax[1].set_xlabel(\"HybridNet scores\", fontsize=22)\n",
    "    ax[1].set_ylabel(\"Arbitrary units\", fontsize=22)\n",
    "    handles, labels = ax[1].get_legend_handles_labels()\n",
    "    order = [0,1,2,3,4]\n",
    "    ax[1].legend([handles[idx] for idx in order],[labels[idx] for idx in order], loc='upper center',\n",
    "                 prop={'size': 16}, bbox_to_anchor=(0.5, 0., 0.4, 1.0))\n",
    "    ax[1].grid()\n",
    "    ###########################################\n",
    "    pth_save = os.path.join('./','significance plots')\n",
    "    if not os.path.exists(pth_save):\n",
    "        os.makedirs(pth_save)\n",
    "\n",
    "    plt.savefig(os.path.join(pth_save,'DF_ROC_{}_{}.pdf').format('resnet34',\n",
    "                                                                 'BCE'.replace('()','')),\n",
    "                bbox_inches='tight'               \n",
    "               )\n",
    "    plt.show()"
   ]
  },
  {
   "cell_type": "code",
   "execution_count": 164,
   "metadata": {},
   "outputs": [
    {
     "name": "stderr",
     "output_type": "stream",
     "text": [
      "/tmp/ipykernel_108635/2659355555.py:10: MatplotlibDeprecationWarning: Support for setting the 'text.latex.preamble' or 'pgf.preamble' rcParam to a list of strings is deprecated since 3.3 and will be removed two minor releases later; set it to a single string instead.\n",
      "  mpl.rcParams['text.latex.preamble'] = [r'\\usepackage{bm}']\n"
     ]
    },
    {
     "data": {
      "image/png": "[encoded data removed]",
      "text/plain": [
       "<Figure size 1152x432 with 2 Axes>"
      ]
     },
     "metadata": {
      "needs_background": "light"
     },
     "output_type": "display_data"
    }
   ],
   "source": [
    "compare_train_test(preds_t,ground_truth)"
   ]
  },
  {
   "cell_type": "code",
   "execution_count": 165,
   "metadata": {},
   "outputs": [],
   "source": [
    "from asimovErrors import *"
   ]
  },
  {
   "cell_type": "code",
   "execution_count": 166,
   "metadata": {},
   "outputs": [],
   "source": [
    "tta = np.array([np.argmax(i) for i in ground_truth])"
   ]
  },
  {
   "cell_type": "code",
   "execution_count": 167,
   "metadata": {},
   "outputs": [
    {
     "data": {
      "text/plain": [
       "array([    1,     2,     3, ..., 54115, 54116, 54117])"
      ]
     },
     "execution_count": 167,
     "metadata": {},
     "output_type": "execute_result"
    }
   ],
   "source": [
    "np.where(tta == 0)[0]"
   ]
  },
  {
   "cell_type": "code",
   "execution_count": 168,
   "metadata": {},
   "outputs": [],
   "source": [
    "from matplotlib.offsetbox import AnchoredText"
   ]
  },
  {
   "cell_type": "code",
   "execution_count": 169,
   "metadata": {},
   "outputs": [],
   "source": [
    "def ExpectedSignificance(s, b, deltaB):\n",
    "    sig = sqrt(2*( (s+b)*log( ((s+b)*(b+deltaB*deltaB)) / (b*b+(s+b)*deltaB*deltaB) ) \\\n",
    "                  -( b*b/deltaB/deltaB)*log(1.+ (s*deltaB*deltaB)/(b*(b+deltaB*deltaB)) ) \n",
    "                 )\n",
    "              ) \n",
    "    return sig"
   ]
  },
  {
   "cell_type": "code",
   "execution_count": 170,
   "metadata": {},
   "outputs": [],
   "source": [
    "def hep_asimov_sig(expectedSignal, expectedBackground, predictions,\n",
    "                   truth, systematics=[0.0001], lumi=None):\n",
    "    \n",
    "    \n",
    "    import matplotlib as mpl\n",
    "    mpl.rcParams['text.usetex']=True \n",
    "    mpl.rcParams['text.latex.preamble'] = [r'\\usepackage{bm}']\n",
    "    plt.rcParams.update({'font.size': 28})\n",
    "    mpl.rcParams[\"legend.framealpha\"] = 1.0\n",
    "    mpl.rcParams['axes.spines.right'] = False\n",
    "    mpl.rcParams['axes.spines.top'] = False\n",
    "    mpl.rcParams[\"figure.figsize\"] = [9.5, 5.5]\n",
    "\n",
    "\n",
    "    s_index = 0\n",
    "    bg_index = [1,2,3,4]\n",
    "    \n",
    "    decisions = defaultdict(list)\n",
    "    \n",
    "    for pred in predictions:\n",
    "        decisions['s'].append(pred[s_index])\n",
    "        for bg_i in bg_index:\n",
    "            decisions[bg_i].append(pred[bg_i])\n",
    "        \n",
    "    signalSizeTest = len(decisions['s'])\n",
    "    signalWeightTest = float(expectedSignal)/signalSizeTest\n",
    "\n",
    "    \n",
    "    bg_total = np.stack([decisions[i] for i in bg_index],axis=-1)\n",
    "    \n",
    "    bkgdSizeTest = len(bg_total)\n",
    "    bkgdWeightTest = defaultdict()\n",
    "    for i in range(len(expectedBkgd)):\n",
    "        bkgdWeightTest[i] = float(expectedBkgd[i])/bkgdSizeTest\n",
    "        \n",
    "\n",
    "    wgt_loc = np.array([i for i in truth])\n",
    "    weights_sig = np.zeros(len(wgt_loc))\n",
    "    weights_sig[np.where(wgt_loc == s_index)[0]] = signalWeightTest\n",
    "\n",
    "    weights_bg = np.zeros(bg_total.shape)\n",
    "    for i in range(len(expectedBkgd)):\n",
    "        weights_bg[np.where(wgt_loc == bg_index[i])[0],i] = bkgdWeightTest[i]\n",
    "    \n",
    "\n",
    "    ########################\n",
    "    proc_label = {'signal':'Signal',\n",
    "                  'bg1':'$WW+$jets',\n",
    "                  'bg2':'$W+$jets',\n",
    "                  'bg3':'$\\\\mathrm{Z^0}+$jets',\n",
    "                  'bg4':'$t\\\\overline{t}$'\n",
    "                  }\n",
    "\n",
    "    classes = ['signal','bg1','bg2','bg3','bg4']\n",
    "    \n",
    "    fig, ax = plt.subplots(figsize=[9,6])\n",
    "    \n",
    "    colors = ['tab:blue', 'tab:red', 'tab:green', 'tab:orange', 'tab:purple', 'tab:brown','tab:pink', 'tab:gray', 'tab:olive', 'tab:cyan']\n",
    "    \n",
    "    h1 = ax.hist([bg_total[:,i] for i in range(len(bg_index))], \n",
    "                 weights=[weights_bg[:,i] for i in range(len(expectedBkgd))], \n",
    "                bins=5000, color=[colors[i] for i in range(len(expectedBkgd))], histtype='step',\n",
    "                alpha=.8, label=[proc_label[classes[i]] for i in bg_index],\n",
    "                cumulative=-1)\n",
    "    \n",
    "    h2 = ax.hist(decisions['s'], weights=weights_sig, \n",
    "                bins=5000, color='r', histtype='stepfilled',\n",
    "                alpha=.2, label=proc_label['signal'],\n",
    "                cumulative=-1)    \n",
    "    \n",
    "    ax.set_yscale('log')\n",
    "    ax.set_xlabel(\"Classifier output\")\n",
    "    ax.set_ylabel(\"Cumulative event counts / 0.02\")\n",
    "    ax.legend(loc='best')\n",
    "\n",
    "\n",
    "    pth_save = os.path.join('./','significance plots')\n",
    "    if not os.path.exists(pth_save):\n",
    "        os.makedirs(pth_save)\n",
    "\n",
    "    plt.tight_layout()\n",
    "    plt.savefig(os.path.join(pth_save,'CWD.pdf'))\n",
    "    plt.clf()\n",
    "\n",
    "    \n",
    "    s=h2[0]\n",
    "    b=np.sum(h1[0],axis=0)\n",
    "\n",
    "    fig, ax = plt.subplots(figsize=[9,6])\n",
    "    \n",
    "    ax.plot((h1[1][:-1]+h1[1][1:])/2,s/b)\n",
    "    ax.set_title('sig/bkgd on test set')\n",
    "    at = AnchoredText(\"{} cross section (fb): {:.2E}\\n\".format(proc_label['signal'],expectedSignal/lumi) +\\\n",
    "                      \"Luminosity: {}\\n\".format(lumi) +\\\n",
    "                      \"best sig/bkgd is {:.6f}\".format(max(s/b)),\n",
    "                      loc='upper left', prop=dict(size=25), frameon=True,\n",
    "                      )\n",
    "    \n",
    "    at.patch.set_boxstyle(\"round,pad=0.,rounding_size=0.2\")\n",
    "    ax.add_artist(at)\n",
    "    ax.set_yscale('log')\n",
    "    plt.tight_layout()\n",
    "    plt.savefig(os.path.join(pth_save,'sigDivBkgdDiscriminator.pdf'))\n",
    "    plt.clf()\n",
    "\n",
    "    fig, ax = plt.subplots()\n",
    "    ax.plot((h1[1][:-1]+h1[1][1:])/2,s/(np.sqrt(s+b)))\n",
    "    at = AnchoredText(\"Cross section (fb): {:.2f}\\n\".format(expectedSignal/lumi) +\\\n",
    "                      \"Luminosity: {}\\n\".format(lumi) +\\\n",
    "                      \"Best significance is {:.2f}\".format(max(s/np.sqrt(s+b))),\n",
    "                      loc='upper left', prop=dict(size=25), frameon=True,\n",
    "                      )\n",
    "    \n",
    "    at.patch.set_boxstyle(\"round,pad=0.,rounding_size=0.2\")\n",
    "    ax.add_artist(at)\n",
    "    \n",
    "    \n",
    "    ax.set_yscale('log')\n",
    "    ax.grid()\n",
    "    ax.set_xlabel('Cut on classifier score')\n",
    "    ax.set_ylabel('$s/\\\\sqrt{s+b}$')\n",
    "    plt.tight_layout()\n",
    "    plt.savefig(os.path.join(pth_save,'sig_sqrt_bkgd.pdf'))\n",
    "    plt.clf()\n",
    "    \n",
    "    sindex = (h1[1][:-1]+h1[1][1:])/2\n",
    "    mtt = np.argmax(s/(np.sqrt(s+b)))\n",
    "    print(s[mtt],b[mtt],sindex[mtt])\n",
    "    \n",
    "    for systematic in systematics:\n",
    "        \n",
    "        fig, ax = plt.subplots(figsize=[9,6])\n",
    "        toPlot = Z(s,b,systematic)\n",
    "        ax.plot((h1[1][:-1]+h1[1][1:])/2,toPlot)\n",
    "        es = signalWeightTest*np.sqrt(s/signalWeightTest)\n",
    "        ebl = []\n",
    "        for i in range(len(expectedBkgd)):\n",
    "            ebl.append(bkgdWeightTest[i])\n",
    "        ebm = np.mean(ebl)\n",
    "        eb = ebm*np.sqrt(b/ebm)\n",
    "        #error=eZ(s,es,b,eb,systematic)\n",
    "        #-error\n",
    "        #+error\n",
    "        ax.fill_between((h1[1][:-1]+h1[1][1:])/2,toPlot,toPlot,linewidth=0,alpha=0.6)\n",
    "\n",
    "        edindex = (h1[1][:-1]+h1[1][1:])/2\n",
    "        \n",
    "        #get the max value without nan\n",
    "        toPlot = np.array(toPlot)\n",
    "        toPlot = toPlot[np.logical_not(np.isnan(toPlot))]\n",
    "        maxIndex=np.argmax(toPlot)\n",
    "        \n",
    "        #,error[maxIndex]\n",
    "        at = AnchoredText(\"Cross section (fb): {:.4f}\\n\".format(expectedSignal/lumi) +\\\n",
    "                          \"Luminosity: {}\\n\".format(lumi) +\\\n",
    "                          \"best significance is {:.4f}\".format(toPlot[maxIndex]),\n",
    "                          loc='upper left', prop=dict(size=25), frameon=True,\n",
    "                      )\n",
    "       \n",
    "        at.patch.set_boxstyle(\"round,pad=0.,rounding_size=0.2\")\n",
    "        ax.add_artist(at)\n",
    "\n",
    "        ax.set_xlabel('Cut on classifier score')\n",
    "        ax.set_ylabel('$\\\\mathcal{Z}_A$')\n",
    "        ax.ticklabel_format(useOffset=False)\n",
    "        ax.grid()\n",
    "        plt.tight_layout()\n",
    "        plt.savefig(os.path.join(pth_save,'Z_{}_sys'.format('resnet50')\\\n",
    "                                 +str(systematic).replace('.','p')\\\n",
    "                                 + '.pdf'))\n",
    "        plt.clf()\n",
    "        \n",
    "    sindex1 = (h1[1][:-1]+h1[1][1:])/2\n",
    "    mtt1 = np.argmax(toPlot)\n",
    "\n",
    "    ############\n",
    "    fig, ax = plt.subplots()\n",
    "    \n",
    "    es = signalWeightTest*np.sqrt(s/signalWeightTest)\n",
    "    ebl = []\n",
    "    for i in range(len(expectedBkgd)):\n",
    "        ebl.append(bkgdWeightTest[i])\n",
    "    ebm = np.mean(ebl)\n",
    "    eb = ebm*np.sqrt(b/ebm)\n",
    "    error=eZ(s,es,b,eb,0.0033)\n",
    "    tf = ExpectedSignificance(s,b,error)\n",
    "    tf = tf[~np.isnan(tf)]\n",
    "    #tf = s/(np.sqrt(b) + 1)\n",
    "    #tf[~np.isinf(tf)]\n",
    "    maxIndex=np.argmax(tf)\n",
    "    #ax.plot((h1[1][:-1]+h1[1][1:])/2,s/(np.sqrt(b)))\n",
    "    #ax.fill_between((h1[1][:-1]+h1[1][1:])/2,s/(np.sqrt(b))-error,s/(np.sqrt(b))+error,linewidth=0,alpha=0.6)\n",
    "    ax.plot((h1[1][:-1]+h1[1][1:])/2,ExpectedSignificance(s,b,error))\n",
    "    #-error\n",
    "    #+error\n",
    "    ax.fill_between((h1[1][:-1]+h1[1][1:])/2,ExpectedSignificance(s,b,error),ExpectedSignificance(s,b,error),linewidth=0,alpha=0.6)\n",
    "    #error[maxIndex+3]\n",
    "    at = AnchoredText(\"Cross section (fb): {:.4f}\\n\".format(expectedSignal/lumi) +\\\n",
    "                      \"Luminosity: {}\\n\".format(lumi) +\\\n",
    "                      #\"best sig/sqrt(bkgd) is {:.2f} $\\\\pm$ {:.3f}\".format(s[maxIndex]/(np.sqrt(b[maxIndex])),error[maxIndex]),\n",
    "                      \"Best significance is {:.4f}\".format(tf[maxIndex]),\n",
    "                      loc='upper center', prop=dict(size=24), frameon=True,\n",
    "                      bbox_to_anchor=(440., 380.)\n",
    "                      )\n",
    "\n",
    "    at.patch.set_boxstyle(\"round,pad=0.,rounding_size=0.2\")\n",
    "    ax.add_artist(at)\n",
    "\n",
    "    ax.set_xlabel('Cut on classifier score')\n",
    "    ax.set_ylabel('$\\\\mathcal{Z}(1\\%)$')\n",
    "    ax.ticklabel_format(useOffset=False)\n",
    "    ax.ticklabel_format()\n",
    "    ax.grid()\n",
    "    plt.tight_layout()\n",
    "    #ax.set_title('sig/sqrt(bkgd)')\n",
    "    plt.savefig(os.path.join(pth_save,'Z_1perc.pdf'))\n",
    "    plt.clf()\n",
    "    \n",
    "    sindex2 = (h1[1][:-1]+h1[1][1:])/2\n",
    "    mtt2 = np.argmax(ExpectedSignificance(s,b,error))\n",
    "    "
   ]
  },
  {
   "cell_type": "code",
   "execution_count": 171,
   "metadata": {},
   "outputs": [],
   "source": [
    "x_sec_signal = 2.2574733795310775e-06*1000\n",
    "x_sec_Diboson = 7.720473226175799*1000\n",
    "x_sec_W_plus_jets = 345.54038414669117*1000\n",
    "x_sec_Z_plus_jets = 5.700842231284646*1000\n",
    "x_sec_ttbar = 183.2741596582192*1000\n",
    "\n",
    "lumi=3000. #luminosity in /fb\n",
    "expectedSignal= x_sec_signal*lumi\n",
    "expectedBkgd=[i*lumi for i in [x_sec_Diboson, x_sec_W_plus_jets, x_sec_Z_plus_jets, x_sec_ttbar]]\n",
    "systematic=[0.0033,0.01,0.1,0.15, 0.25, 0.5] #systematic for the asimov signficance"
   ]
  },
  {
   "cell_type": "code",
   "execution_count": 172,
   "metadata": {},
   "outputs": [
    {
     "name": "stderr",
     "output_type": "stream",
     "text": [
      "/tmp/ipykernel_108635/4092162464.py:7: MatplotlibDeprecationWarning: Support for setting the 'text.latex.preamble' or 'pgf.preamble' rcParam to a list of strings is deprecated since 3.3 and will be removed two minor releases later; set it to a single string instead.\n",
      "  mpl.rcParams['text.latex.preamble'] = [r'\\usepackage{bm}']\n",
      "/tmp/ipykernel_108635/4092162464.py:91: RuntimeWarning: divide by zero encountered in true_divide\n",
      "  ax.plot((h1[1][:-1]+h1[1][1:])/2,s/b)\n",
      "/tmp/ipykernel_108635/4092162464.py:95: RuntimeWarning: divide by zero encountered in true_divide\n",
      "  \"best sig/bkgd is {:.6f}\".format(max(s/b)),\n"
     ]
    },
    {
     "name": "stdout",
     "output_type": "stream",
     "text": [
      "5.272971930961469 0.0 0.5754195\n"
     ]
    },
    {
     "name": "stderr",
     "output_type": "stream",
     "text": [
      "/home/felipe/JoaoPino/vlq_joao_StrongProduction/asimovErrors.py:10: RuntimeWarning: invalid value encountered in true_divide\n",
      "  return sqrt( -2.0/(sig*sig)*log( b/( b+(b*b)*(sig*sig))*(sig*sig)*s+1.0)+ \\\n",
      "/home/felipe/JoaoPino/vlq_joao_StrongProduction/asimovErrors.py:11: RuntimeWarning: invalid value encountered in true_divide\n",
      "  2.0*( b+s)*log(( b+s)*( b+(b*b)*(sig*sig))/( (b*b)+( b+s)*(b*b)*(sig*sig))))\n",
      "/home/felipe/JoaoPino/vlq_joao_StrongProduction/asimovErrors.py:10: RuntimeWarning: invalid value encountered in true_divide\n",
      "  return sqrt( -2.0/(sig*sig)*log( b/( b+(b*b)*(sig*sig))*(sig*sig)*s+1.0)+ \\\n",
      "/home/felipe/JoaoPino/vlq_joao_StrongProduction/asimovErrors.py:11: RuntimeWarning: invalid value encountered in true_divide\n",
      "  2.0*( b+s)*log(( b+s)*( b+(b*b)*(sig*sig))/( (b*b)+( b+s)*(b*b)*(sig*sig))))\n",
      "/home/felipe/JoaoPino/vlq_joao_StrongProduction/asimovErrors.py:10: RuntimeWarning: invalid value encountered in sqrt\n",
      "  return sqrt( -2.0/(sig*sig)*log( b/( b+(b*b)*(sig*sig))*(sig*sig)*s+1.0)+ \\\n",
      "/home/felipe/JoaoPino/vlq_joao_StrongProduction/asimovErrors.py:10: RuntimeWarning: invalid value encountered in true_divide\n",
      "  return sqrt( -2.0/(sig*sig)*log( b/( b+(b*b)*(sig*sig))*(sig*sig)*s+1.0)+ \\\n",
      "/home/felipe/JoaoPino/vlq_joao_StrongProduction/asimovErrors.py:11: RuntimeWarning: invalid value encountered in true_divide\n",
      "  2.0*( b+s)*log(( b+s)*( b+(b*b)*(sig*sig))/( (b*b)+( b+s)*(b*b)*(sig*sig))))\n",
      "/home/felipe/JoaoPino/vlq_joao_StrongProduction/asimovErrors.py:10: RuntimeWarning: invalid value encountered in sqrt\n",
      "  return sqrt( -2.0/(sig*sig)*log( b/( b+(b*b)*(sig*sig))*(sig*sig)*s+1.0)+ \\\n",
      "/home/felipe/JoaoPino/vlq_joao_StrongProduction/asimovErrors.py:10: RuntimeWarning: invalid value encountered in true_divide\n",
      "  return sqrt( -2.0/(sig*sig)*log( b/( b+(b*b)*(sig*sig))*(sig*sig)*s+1.0)+ \\\n",
      "/home/felipe/JoaoPino/vlq_joao_StrongProduction/asimovErrors.py:11: RuntimeWarning: invalid value encountered in true_divide\n",
      "  2.0*( b+s)*log(( b+s)*( b+(b*b)*(sig*sig))/( (b*b)+( b+s)*(b*b)*(sig*sig))))\n",
      "/home/felipe/JoaoPino/vlq_joao_StrongProduction/asimovErrors.py:10: RuntimeWarning: invalid value encountered in sqrt\n",
      "  return sqrt( -2.0/(sig*sig)*log( b/( b+(b*b)*(sig*sig))*(sig*sig)*s+1.0)+ \\\n",
      "/home/felipe/JoaoPino/vlq_joao_StrongProduction/asimovErrors.py:10: RuntimeWarning: invalid value encountered in true_divide\n",
      "  return sqrt( -2.0/(sig*sig)*log( b/( b+(b*b)*(sig*sig))*(sig*sig)*s+1.0)+ \\\n",
      "/home/felipe/JoaoPino/vlq_joao_StrongProduction/asimovErrors.py:11: RuntimeWarning: invalid value encountered in true_divide\n",
      "  2.0*( b+s)*log(( b+s)*( b+(b*b)*(sig*sig))/( (b*b)+( b+s)*(b*b)*(sig*sig))))\n",
      "/home/felipe/JoaoPino/vlq_joao_StrongProduction/asimovErrors.py:10: RuntimeWarning: invalid value encountered in sqrt\n",
      "  return sqrt( -2.0/(sig*sig)*log( b/( b+(b*b)*(sig*sig))*(sig*sig)*s+1.0)+ \\\n",
      "/home/felipe/JoaoPino/vlq_joao_StrongProduction/asimovErrors.py:10: RuntimeWarning: invalid value encountered in true_divide\n",
      "  return sqrt( -2.0/(sig*sig)*log( b/( b+(b*b)*(sig*sig))*(sig*sig)*s+1.0)+ \\\n",
      "/home/felipe/JoaoPino/vlq_joao_StrongProduction/asimovErrors.py:11: RuntimeWarning: invalid value encountered in true_divide\n",
      "  2.0*( b+s)*log(( b+s)*( b+(b*b)*(sig*sig))/( (b*b)+( b+s)*(b*b)*(sig*sig))))\n",
      "/home/felipe/JoaoPino/vlq_joao_StrongProduction/asimovErrors.py:10: RuntimeWarning: invalid value encountered in sqrt\n",
      "  return sqrt( -2.0/(sig*sig)*log( b/( b+(b*b)*(sig*sig))*(sig*sig)*s+1.0)+ \\\n",
      "/home/felipe/JoaoPino/vlq_joao_StrongProduction/asimovErrors.py:17: RuntimeWarning: invalid value encountered in true_divide\n",
      "  return power(-(eb*eb)/( 1.0/(sig*sig)*log( b/( b+(b*b)*(sig*sig))*(sig*sig)*s+1.0)-( b+s)*log(( b+s)*( b+(b*b)*(sig*sig))/( (b*b)+( b+s)*(b*b)*(sig*sig))))*power( 1.0/( b/( b+(b*b)*(sig*sig))*(sig*sig)*s+1.0)/(sig*sig)*( 1.0/( b+(b*b)*(sig*sig))*(sig*sig)*s-b/power( b+(b*b)*(sig*sig),2.0)*(sig*sig)*( 2.0*b*(sig*sig)+1.0)*s)-( ( b+s)*( 2.0*b*(sig*sig)+1.0)/( (b*b)+( b+s)*(b*b)*(sig*sig))+( b+(b*b)*(sig*sig))/( (b*b)+( b+s)*(b*b)*(sig*sig))-( b+s)*( 2.0*( b+s)*b*(sig*sig)+2.0*b+(b*b)*(sig*sig))*( b+(b*b)*(sig*sig))/power( (b*b)+( b+s)*(b*b)*(sig*sig),2.0))/( b+(b*b)*(sig*sig))*( (b*b)+( b+s)*(b*b)*(sig*sig))-log(( b+s)*( b+(b*b)*(sig*sig))/( (b*b)+( b+s)*(b*b)*(sig*sig))),2.0)/2.0-1.0/( 1.0/(sig*sig)*log( b/( b+(b*b)*(sig*sig))*(sig*sig)*s+1.0)-( b+s)*log(( b+s)*( b+(b*b)*(sig*sig))/( (b*b)+( b+s)*(b*b)*(sig*sig))))*power( log(( b+s)*( b+(b*b)*(sig*sig))/( (b*b)+( b+s)*(b*b)*(sig*sig)))+1.0/( b+(b*b)*(sig*sig))*( ( b+(b*b)*(sig*sig))/( (b*b)+( b+s)*(b*b)*(sig*sig))-( b+s)*(b*b)*( b+(b*b)*(sig*sig))*(sig*sig)/power( (b*b)+( b+s)*(b*b)*(sig*sig),2.0))*( (b*b)+( b+s)*(b*b)*(sig*sig))-1.0/( b/( b+(b*b)*(sig*sig))*(sig*sig)*s+1.0)*b/( b+(b*b)*(sig*sig)),2.0)*(es*es)/2.0,(1.0/2.0))\n",
      "/home/felipe/JoaoPino/vlq_joao_StrongProduction/asimovErrors.py:17: RuntimeWarning: divide by zero encountered in true_divide\n",
      "  return power(-(eb*eb)/( 1.0/(sig*sig)*log( b/( b+(b*b)*(sig*sig))*(sig*sig)*s+1.0)-( b+s)*log(( b+s)*( b+(b*b)*(sig*sig))/( (b*b)+( b+s)*(b*b)*(sig*sig))))*power( 1.0/( b/( b+(b*b)*(sig*sig))*(sig*sig)*s+1.0)/(sig*sig)*( 1.0/( b+(b*b)*(sig*sig))*(sig*sig)*s-b/power( b+(b*b)*(sig*sig),2.0)*(sig*sig)*( 2.0*b*(sig*sig)+1.0)*s)-( ( b+s)*( 2.0*b*(sig*sig)+1.0)/( (b*b)+( b+s)*(b*b)*(sig*sig))+( b+(b*b)*(sig*sig))/( (b*b)+( b+s)*(b*b)*(sig*sig))-( b+s)*( 2.0*( b+s)*b*(sig*sig)+2.0*b+(b*b)*(sig*sig))*( b+(b*b)*(sig*sig))/power( (b*b)+( b+s)*(b*b)*(sig*sig),2.0))/( b+(b*b)*(sig*sig))*( (b*b)+( b+s)*(b*b)*(sig*sig))-log(( b+s)*( b+(b*b)*(sig*sig))/( (b*b)+( b+s)*(b*b)*(sig*sig))),2.0)/2.0-1.0/( 1.0/(sig*sig)*log( b/( b+(b*b)*(sig*sig))*(sig*sig)*s+1.0)-( b+s)*log(( b+s)*( b+(b*b)*(sig*sig))/( (b*b)+( b+s)*(b*b)*(sig*sig))))*power( log(( b+s)*( b+(b*b)*(sig*sig))/( (b*b)+( b+s)*(b*b)*(sig*sig)))+1.0/( b+(b*b)*(sig*sig))*( ( b+(b*b)*(sig*sig))/( (b*b)+( b+s)*(b*b)*(sig*sig))-( b+s)*(b*b)*( b+(b*b)*(sig*sig))*(sig*sig)/power( (b*b)+( b+s)*(b*b)*(sig*sig),2.0))*( (b*b)+( b+s)*(b*b)*(sig*sig))-1.0/( b/( b+(b*b)*(sig*sig))*(sig*sig)*s+1.0)*b/( b+(b*b)*(sig*sig)),2.0)*(es*es)/2.0,(1.0/2.0))\n",
      "/tmp/ipykernel_108635/3808813870.py:2: RuntimeWarning: invalid value encountered in sqrt\n",
      "  sig = sqrt(2*( (s+b)*log( ((s+b)*(b+deltaB*deltaB)) / (b*b+(s+b)*deltaB*deltaB) ) \\\n",
      "/tmp/ipykernel_108635/3808813870.py:2: RuntimeWarning: invalid value encountered in sqrt\n",
      "  sig = sqrt(2*( (s+b)*log( ((s+b)*(b+deltaB*deltaB)) / (b*b+(s+b)*deltaB*deltaB) ) \\\n",
      "/tmp/ipykernel_108635/3808813870.py:2: RuntimeWarning: invalid value encountered in sqrt\n",
      "  sig = sqrt(2*( (s+b)*log( ((s+b)*(b+deltaB*deltaB)) / (b*b+(s+b)*deltaB*deltaB) ) \\\n"
     ]
    },
    {
     "data": {
      "text/plain": [
       "<Figure size 648x432 with 0 Axes>"
      ]
     },
     "metadata": {},
     "output_type": "display_data"
    },
    {
     "data": {
      "text/plain": [
       "<Figure size 648x432 with 0 Axes>"
      ]
     },
     "metadata": {},
     "output_type": "display_data"
    },
    {
     "data": {
      "text/plain": [
       "<Figure size 684x396 with 0 Axes>"
      ]
     },
     "metadata": {},
     "output_type": "display_data"
    },
    {
     "data": {
      "text/plain": [
       "<Figure size 648x432 with 0 Axes>"
      ]
     },
     "metadata": {},
     "output_type": "display_data"
    },
    {
     "data": {
      "text/plain": [
       "<Figure size 648x432 with 0 Axes>"
      ]
     },
     "metadata": {},
     "output_type": "display_data"
    },
    {
     "data": {
      "text/plain": [
       "<Figure size 648x432 with 0 Axes>"
      ]
     },
     "metadata": {},
     "output_type": "display_data"
    },
    {
     "data": {
      "text/plain": [
       "<Figure size 648x432 with 0 Axes>"
      ]
     },
     "metadata": {},
     "output_type": "display_data"
    },
    {
     "data": {
      "text/plain": [
       "<Figure size 648x432 with 0 Axes>"
      ]
     },
     "metadata": {},
     "output_type": "display_data"
    },
    {
     "data": {
      "text/plain": [
       "<Figure size 648x432 with 0 Axes>"
      ]
     },
     "metadata": {},
     "output_type": "display_data"
    },
    {
     "data": {
      "text/plain": [
       "<Figure size 684x396 with 0 Axes>"
      ]
     },
     "metadata": {},
     "output_type": "display_data"
    }
   ],
   "source": [
    "hep_asimov_sig(expectedSignal, expectedBkgd, preds_t,\n",
    "               ground_truth, systematics=systematic, lumi=lumi)"
   ]
  },
  {
   "cell_type": "code",
   "execution_count": null,
   "metadata": {},
   "outputs": [],
   "source": [
    "from scipy import interpolate\n",
    "import matplotlib as mpl\n",
    "import matplotlib.pyplot as plt\n",
    "import numpy as np\n",
    "\n",
    "mpl.rcParams['text.usetex']=True\n",
    "mpl.rcParams['text.latex.preamble'] = [r'\\usepackage{bm}']\n",
    "plt.rcParams.update({'font.size': 17})\n",
    "mpl.rcParams[\"legend.framealpha\"] = 1.0\n",
    "mpl.rcParams['axes.spines.right'] = False\n",
    "mpl.rcParams['axes.spines.top'] = False\n",
    "mpl.rcParams[\"figure.figsize\"] = [11.5, 5.5]\n",
    "\n",
    "Luminosity = np.array([10,100,300,500,1000,3000])\n",
    "\n",
    "Sigma_Asimov_15perc = [4.18, 10.53, 13.76, 14.90, 15.99, 16.89]\n",
    "Sigma_Asimov_25perc = [3.95, 8.14, 9.45, 9.81, 10.11, 10.33]\n",
    "Sigma_Asimov_50erc = [3.26, 4.83, 5.08, 5.14, 5.18, 5.21]\n",
    "\n",
    "Array = np.append(np.append(Sigma_Asimov_15perc,Sigma_Asimov_25perc),Sigma_Asimov_50erc)\n",
    "Arg_max = np.max(Array)\n",
    "\n",
    "#Run-III\n",
    "N=50\n",
    "L_run3 = 300*np.ones(N)\n",
    "L_run4 = 3000*np.ones(N)\n",
    "\n",
    "\n",
    "f3 = interpolate.interp1d(Luminosity, Sigma_Asimov_15perc, kind='cubic')\n",
    "f2 = interpolate.interp1d(Luminosity, Sigma_Asimov_25perc, kind='cubic')\n",
    "f1 = interpolate.interp1d(Luminosity, Sigma_Asimov_50erc, kind='cubic')\n",
    "\n",
    "#plt.title('VLQ pair-production: $\\\\mathrm{m_T} = 2.2$ TeV, significance with systematics of 1$\\%$',pad=20)\n",
    "plt.title('Significance vs Luminosity $\\\\mathrm{m_{VLQ}} = 800$ GeV',pad=20)\n",
    "plt.xlabel('Luminosity fb$^{-1}$',fontsize=22)\n",
    "plt.ylabel('Significance',fontsize=22)\n",
    "plt.tight_layout()\n",
    "plt.plot(Luminosity,f1(Luminosity),'g',label='$\\mathcal{Z}_A(\\sigma_b = 50\\%)$')\n",
    "plt.plot(Luminosity,f2(Luminosity),'r',label='$\\mathcal{Z}_A(\\sigma_b = 25\\%)$')\n",
    "plt.plot(Luminosity,f3(Luminosity),'b',label='$\\mathcal{Z}_A(\\sigma_b = 15\\%)$')\n",
    "plt.text(235,0.03*np.max(Arg_max),'300 fb$^{-1}$',rotation=90,fontsize=20)\n",
    "plt.text(3400,0.1*np.max(Arg_max),'3000 fb$^{-1}$',rotation=90,fontsize=20)\n",
    "plt.plot(L_run3,np.linspace(0,np.max(Arg_max),N),'--k')\n",
    "plt.plot(L_run4,np.linspace(0,np.max(Arg_max),N),'--k')\n",
    "plt.plot(Luminosity,Sigma_Asimov_50erc,'og')\n",
    "plt.plot(Luminosity,Sigma_Asimov_25perc,'or')\n",
    "plt.plot(Luminosity,Sigma_Asimov_15perc,'ob')\n",
    "plt.xscale('log')\n",
    "plt.yscale('log')\n",
    "plt.grid()\n",
    "plt.legend(bbox_to_anchor = [0.25, 1.05], prop={'size': 16})\n",
    "#plt.legend(bbox_to_anchor = [0.22, 0.70], prop={'size': 16})\n",
    "#plt.tight_layout()\n",
    "#plt.show()\n",
    "\n",
    "#plt.savefig('/home/joao/Desktop/Machine Learning/Plots/significance plots/sig_plot.pdf')\n",
    "plt.savefig('/home/felipe/JoaoPino/vlq_joao_StrongProduction/significance plots/sig_plot.pdf')\n"
   ]
  },
  {
   "cell_type": "code",
   "execution_count": null,
   "metadata": {},
   "outputs": [],
   "source": []
  },
  {
   "cell_type": "code",
   "execution_count": null,
   "metadata": {},
   "outputs": [],
   "source": []
  },
  {
   "cell_type": "code",
   "execution_count": null,
   "metadata": {},
   "outputs": [],
   "source": []
  },
  {
   "cell_type": "code",
   "execution_count": null,
   "metadata": {},
   "outputs": [],
   "source": []
  }
 ],
 "metadata": {
  "kernelspec": {
   "display_name": "FastAI-v2",
   "language": "python",
   "name": "fastai_v2"
  },
  "language_info": {
   "codemirror_mode": {
    "name": "ipython",
    "version": 3
   },
   "file_extension": ".py",
   "mimetype": "text/x-python",
   "name": "python",
   "nbconvert_exporter": "python",
   "pygments_lexer": "ipython3",
   "version": "3.9.7"
  }
 },
 "nbformat": 4,
 "nbformat_minor": 4
}
